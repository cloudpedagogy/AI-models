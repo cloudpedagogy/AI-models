{
  "nbformat": 4,
  "nbformat_minor": 0,
  "metadata": {
    "colab": {
      "provenance": [],
      "authorship_tag": "ABX9TyMSVbq3w7lf54ncII2ltTb/",
      "include_colab_link": true
    },
    "kernelspec": {
      "name": "python3",
      "display_name": "Python 3"
    },
    "language_info": {
      "name": "python"
    }
  },
  "cells": [
    {
      "cell_type": "markdown",
      "metadata": {
        "id": "view-in-github",
        "colab_type": "text"
      },
      "source": [
        "<a href=\"https://colab.research.google.com/github/cloudpedagogy/AI-models/blob/main/ml/Elastic_Net.ipynb\" target=\"_parent\"><img src=\"https://colab.research.google.com/assets/colab-badge.svg\" alt=\"Open In Colab\"/></a>"
      ]
    },
    {
      "cell_type": "markdown",
      "source": [
        "# Elastic Net Model Background"
      ],
      "metadata": {
        "id": "4AHKufjT8ZqJ"
      }
    },
    {
      "cell_type": "markdown",
      "source": [
        "Elastic Net is a regularization technique used in linear regression and other regression-based machine learning algorithms. It is designed to address some of the limitations of traditional linear regression methods when dealing with high-dimensional datasets where there may be multicollinearity among the input features.\n",
        "\n",
        "In linear regression, the goal is to find the best-fit line that minimizes the error between the predicted values and the actual values in the training data. However, when dealing with high-dimensional data, traditional linear regression may suffer from overfitting (capturing noise in the data) and unstable coefficient estimates due to multicollinearity (high correlation among input features).\n",
        "\n",
        "Elastic Net combines both L1 and L2 regularization to overcome these issues. L1 regularization (Lasso) adds a penalty term proportional to the absolute values of the coefficients, encouraging sparsity in the model (some coefficients become exactly zero). L2 regularization (Ridge) adds a penalty term proportional to the square of the coefficients, which helps prevent overfitting and reduces the impact of multicollinearity.\n",
        "\n",
        "The Elastic Net objective function is a combination of the L1 and L2 regularization terms along with the ordinary least squares (OLS) loss:\n",
        "\n",
        "```\n",
        "Elastic Net Loss = OLS Loss + alpha * ((1 - l1_ratio) * L2 Regularization + l1_ratio * L1 Regularization)\n",
        "```\n",
        "\n",
        "Here's a list of pros and cons of Elastic Net:\n",
        "\n",
        "**Pros:**\n",
        "\n",
        "1. **Handles multicollinearity:** Elastic Net effectively deals with multicollinearity by combining L1 and L2 regularization. This allows it to select relevant features while reducing the impact of highly correlated ones.\n",
        "\n",
        "2. **Feature selection:** As a result of the L1 regularization component, Elastic Net can perform feature selection by driving some coefficients to zero. This helps in creating a more interpretable and simpler model.\n",
        "\n",
        "3. **Suitable for high-dimensional data:** Elastic Net is particularly useful when you have datasets with many features, as it helps to prevent overfitting in such scenarios.\n",
        "\n",
        "4. **Stability:** The L2 regularization component ensures that even if some features are highly correlated with the target, the algorithm won't rely too much on any single feature, making the model more stable.\n",
        "\n",
        "**Cons:**\n",
        "\n",
        "1. **Hyperparameter tuning:** Elastic Net has two hyperparameters, alpha and l1_ratio, that need to be tuned. Finding the optimal combination can be time-consuming and computationally expensive.\n",
        "\n",
        "2. **Interpretability of results:** While Elastic Net provides feature selection, the interpretability of the resulting model might be compromised if many features are discarded.\n",
        "\n",
        "3. **Not suitable for all problems:** Elastic Net works well for linear and linear-like relationships between features and the target variable. For non-linear relationships, other models like decision trees, random forests, or neural networks might be more appropriate.\n",
        "\n",
        "**When to use Elastic Net:**\n",
        "\n",
        "Elastic Net is a good choice under the following circumstances:\n",
        "\n",
        "1. When dealing with high-dimensional datasets, especially when there is a possibility of multicollinearity among features.\n",
        "\n",
        "2. When interpretability and feature selection are important. Elastic Net can provide insights into which features are relevant for predicting the target variable.\n",
        "\n",
        "3. When you want a more stable model compared to Lasso (L1 regularization) alone, as the L2 regularization component helps reduce model variance.\n",
        "\n",
        "However, it's essential to remember that the performance of any algorithm depends on the specific characteristics of your data. It's always a good idea to try different regularization techniques and compare their performance through cross-validation or other model evaluation methods to choose the best approach for your specific problem."
      ],
      "metadata": {
        "id": "0FG8RmtgENA3"
      }
    },
    {
      "cell_type": "markdown",
      "source": [
        "# Code Example"
      ],
      "metadata": {
        "id": "pvre2bXlB5y-"
      }
    },
    {
      "cell_type": "code",
      "source": [
        "import numpy as np\n",
        "import matplotlib.pyplot as plt\n",
        "from sklearn.model_selection import train_test_split\n",
        "from sklearn.linear_model import ElasticNet\n",
        "from sklearn.metrics import mean_squared_error\n",
        "\n",
        "# Generate sample data\n",
        "np.random.seed(42)\n",
        "X = np.random.rand(100, 1)\n",
        "y = 4 + 3 * X + np.random.randn(100, 1)\n",
        "\n",
        "# Split the data into training and test sets\n",
        "X_train, X_test, y_train, y_test = train_test_split(X, y, test_size=0.2, random_state=42)\n",
        "\n",
        "# Create and train the ElasticNet model\n",
        "alpha = 0.1  # Regularization strength\n",
        "l1_ratio = 0.5  # L1 ratio (0 for L2 penalty, 1 for L1 penalty, and values in between for a combination)\n",
        "elastic_net = ElasticNet(alpha=alpha, l1_ratio=l1_ratio, random_state=42)\n",
        "elastic_net.fit(X_train, y_train)\n",
        "\n",
        "# Make predictions on the test set\n",
        "y_pred = elastic_net.predict(X_test)\n",
        "\n",
        "# Calculate Mean Squared Error\n",
        "mse = mean_squared_error(y_test, y_pred)\n",
        "print(f\"Mean Squared Error: {mse}\")\n",
        "\n",
        "# Plot the results\n",
        "plt.scatter(X_train, y_train, color='blue', label='Training data')\n",
        "plt.scatter(X_test, y_test, color='green', label='Test data')\n",
        "plt.plot(X_test, y_pred, color='red', label='Predictions')\n",
        "plt.xlabel('X')\n",
        "plt.ylabel('y')\n",
        "plt.title('Elastic Net Regression')\n",
        "plt.legend()\n",
        "plt.show()\n"
      ],
      "metadata": {
        "id": "QC4kmYR_Q5R5"
      },
      "execution_count": null,
      "outputs": []
    },
    {
      "cell_type": "markdown",
      "source": [
        "# Code breakdown"
      ],
      "metadata": {
        "id": "kypxSiPjMz-o"
      }
    },
    {
      "cell_type": "markdown",
      "source": [
        "This code demonstrates the use of Elastic Net regression for a simple linear regression problem. The Elastic Net is a linear regression model that combines L1 and L2 regularization to handle multicollinearity and perform feature selection. The step-by-step explanation is as follows:\n",
        "\n",
        "1. **Import Libraries:** The necessary libraries are imported. `numpy` for numerical computations, `matplotlib` for plotting, and scikit-learn's `train_test_split` for data splitting, `ElasticNet` for creating the Elastic Net regression model, and `mean_squared_error` for evaluating the model.\n",
        "\n",
        "2. **Generate Sample Data:** Random data is generated for the input feature `X` and the target variable `y`. The data has a linear relationship between `X` and `y`, with some added random noise.\n",
        "\n",
        "3. **Split the Data:** The data is split into training and test sets using `train_test_split`. 80% of the data is used for training, and 20% is used for testing. The `random_state` parameter ensures reproducibility of the split.\n",
        "\n",
        "4. **Create and Train the ElasticNet Model:** An Elastic Net regression model is created and trained using the training data. The model is specified with two hyperparameters:\n",
        "   - `alpha`: The regularization strength, controlling the overall amount of regularization applied. Higher values result in stronger regularization.\n",
        "   - `l1_ratio`: The L1 ratio, controlling the balance between L1 and L2 regularization. When `l1_ratio = 0`, it becomes Ridge regression (L2 regularization), and when `l1_ratio = 1`, it becomes Lasso regression (L1 regularization). Values in between represent a combination of both L1 and L2 regularization.\n",
        "\n",
        "5. **Make Predictions on the Test Set:** The trained model is used to make predictions on the test set (`X_test`), and the predicted target values are stored in `y_pred`.\n",
        "\n",
        "6. **Calculate Mean Squared Error:** The Mean Squared Error (MSE) is computed to evaluate the model's performance. MSE measures the average squared difference between the predicted and actual target values. Lower MSE indicates better model performance.\n",
        "\n",
        "7. **Plot the Results:** A scatter plot is created to visualize the training and test data points as blue and green dots, respectively. The red line represents the predictions made by the Elastic Net model. The plot shows how well the model fits the data and the relationship between the input feature `X` and the target variable `y`.\n",
        "\n",
        "8. **Show the Plot:** The plot is displayed using `plt.show()`.\n",
        "\n",
        "Overall, this code provides a simple example of how to use Elastic Net regression for a basic linear regression problem and visualize the model's performance using scatter plots. In real-world scenarios, you may have more complex datasets, and you can adjust the model hyperparameters to achieve better results."
      ],
      "metadata": {
        "id": "R6rKyGcxlWuq"
      }
    },
    {
      "cell_type": "markdown",
      "source": [
        "# Real world application"
      ],
      "metadata": {
        "id": "r6uWX0WcSuUt"
      }
    },
    {
      "cell_type": "markdown",
      "source": [
        "In a healthcare setting, one real-world example of using the Elastic Net model is for predicting patient readmission rates. Hospital readmissions can be costly and indicate potential gaps in patient care. By predicting readmission rates, healthcare providers can take proactive measures to improve patient outcomes and reduce healthcare expenses.\n",
        "\n",
        "Let's assume we have a dataset containing various features related to patients, their medical history, demographics, and other relevant factors. The target variable is a binary label indicating whether a patient was readmitted within a specific time frame (e.g., 30 days).\n",
        "\n",
        "Here's how the Elastic Net model can be applied to this healthcare problem:\n",
        "\n",
        "1. Data Collection and Preprocessing:\n",
        "   - Collect data on patient demographics, medical history, diagnosis codes, treatments, and any other relevant information.\n",
        "   - Preprocess the data, handle missing values, encode categorical variables, and scale numerical features.\n",
        "\n",
        "2. Feature Selection and Regularization:\n",
        "   - With potentially a large number of features, feature selection becomes crucial to avoid overfitting and improve model interpretability.\n",
        "   - Elastic Net applies both L1 (Lasso) and L2 (Ridge) regularization, allowing it to perform feature selection by pushing irrelevant or redundant features towards zero. This helps in selecting the most relevant features for the readmission prediction task.\n",
        "\n",
        "3. Train-Test Split:\n",
        "   - Split the dataset into training and testing sets. The training set will be used to train the Elastic Net model, and the testing set will be used to evaluate its performance.\n",
        "\n",
        "4. Model Training:\n",
        "   - Train the Elastic Net model using the training data. The Elastic Net model combines the L1 and L2 regularization penalties to optimize the model's coefficients and minimize the loss function.\n",
        "\n",
        "5. Model Evaluation:\n",
        "   - Evaluate the Elastic Net model's performance using metrics such as accuracy, precision, recall, F1-score, and ROC-AUC.\n",
        "   - The model's ability to correctly predict readmission can be assessed by comparing its predictions against the true readmission labels in the testing set.\n",
        "\n",
        "6. Interpretability:\n",
        "   - One of the benefits of using Elastic Net is its ability to perform feature selection, which results in a more interpretable model.\n",
        "   - The coefficients of the selected features can be examined to understand which patient characteristics and medical factors contribute the most to readmission risk.\n",
        "\n",
        "7. Deployment and Continuous Monitoring:\n",
        "   - Once the Elastic Net model is trained and evaluated, it can be deployed in the healthcare setting to predict readmission risk for incoming patients.\n",
        "   - Continuous monitoring and updating of the model are essential to ensure its accuracy and relevance over time as new patient data becomes available.\n",
        "\n",
        "Using the Elastic Net model in this healthcare example allows us to build a predictive model for patient readmission while considering the importance of different features and reducing the risk of overfitting. By understanding the factors associated with readmissions, healthcare providers can implement targeted interventions and improve patient care, leading to better health outcomes and cost savings."
      ],
      "metadata": {
        "id": "3KMojzIw9RVi"
      }
    },
    {
      "cell_type": "markdown",
      "source": [
        "# FAQ"
      ],
      "metadata": {
        "id": "ZIjhTYIKZfbH"
      }
    },
    {
      "cell_type": "markdown",
      "source": [
        "\n",
        "1. What is the Elastic Net model?\n",
        "   - The Elastic Net model is a type of linear regression that combines the properties of both Lasso (L1 regularization) and Ridge (L2 regularization) regression. It is designed to handle multicollinearity and perform feature selection while dealing with large datasets.\n",
        "\n",
        "2. When should I use the Elastic Net model?\n",
        "   - You should consider using the Elastic Net model when you have a high-dimensional dataset with potential multicollinearity among the features. It is particularly useful when you want to perform both feature selection and regularization to prevent overfitting.\n",
        "\n",
        "3. How does Elastic Net differ from Lasso and Ridge regression?\n",
        "   - Lasso regression imposes a penalty on the absolute values of the coefficients (L1 regularization), encouraging sparsity in the model. Ridge regression, on the other hand, penalizes the squared values of the coefficients (L2 regularization), which tends to shrink all coefficients towards zero. Elastic Net combines both L1 and L2 penalties, providing a balance between feature selection and coefficient shrinkage.\n",
        "\n",
        "4. What are the advantages of using Elastic Net?\n",
        "   - Elastic Net is effective in handling multicollinearity between features, which is a common issue in high-dimensional datasets. It can select important features and assign coefficients to them while simultaneously shrinking less relevant features to zero, leading to a more interpretable and accurate model.\n",
        "\n",
        "5. Are there any drawbacks to using the Elastic Net model?\n",
        "   - One potential drawback of Elastic Net is that it requires tuning two hyperparameters: the mixing parameter (α) that controls the balance between L1 and L2 regularization, and the overall regularization strength (λ). Selecting appropriate values for these hyperparameters can be challenging.\n",
        "\n",
        "6. How do I select the optimal values of the hyperparameters for Elastic Net?\n",
        "   - Cross-validation is commonly used to find the optimal hyperparameters for the Elastic Net model. By testing different combinations of α and λ on validation data, you can choose the values that result in the best model performance.\n",
        "\n",
        "7. Can the Elastic Net model handle non-linear relationships between features and the target variable?\n",
        "   - No, the Elastic Net model is a linear regression technique, so it can only model linear relationships between features and the target variable. For non-linear relationships, you may need to consider using non-linear regression models or transforming the features appropriately.\n",
        "\n",
        "8. Can Elastic Net be applied to other types of models, such as logistic regression or support vector machines?\n",
        "   - Yes, the Elastic Net regularization technique can be applied to other linear models beyond linear regression, including logistic regression and support vector machines, to handle high-dimensional and multicollinear datasets.\n",
        "\n",
        "9. Are there any specialized libraries or tools for implementing Elastic Net in machine learning?\n",
        "   - Yes, many popular machine learning libraries like scikit-learn in Python and glmnet in R provide easy-to-use implementations of Elastic Net. These libraries offer efficient algorithms to fit Elastic Net models to your data.\n",
        "\n",
        "10. Can Elastic Net handle missing data in the features?\n",
        "   - Yes, Elastic Net can handle missing data, but you need to preprocess the data and handle the missing values appropriately. Common techniques include imputation of missing values or using models that can handle missing data natively."
      ],
      "metadata": {
        "id": "bRQkVdOWbkfW"
      }
    },
    {
      "cell_type": "markdown",
      "source": [
        "# Quiz"
      ],
      "metadata": {
        "id": "2gJL3BHCcLlr"
      }
    },
    {
      "cell_type": "markdown",
      "source": [
        "\n",
        "\n",
        "**Question 1:** What problem does the Elastic Net model aim to address?\n",
        "\n",
        "a) Overfitting in linear regression  \n",
        "b) Underfitting in linear regression  \n",
        "c) Non-linear regression  \n",
        "d) Clustering\n",
        "\n",
        "**Question 2:** Elastic Net combines which two types of regularization techniques?\n",
        "\n",
        "a) Lasso and Ridge  \n",
        "b) Lasso and Polynomial  \n",
        "c) Ridge and Decision Tree  \n",
        "d) Decision Tree and Support Vector Machine\n",
        "\n",
        "**Question 3:** In the Elastic Net regularization term, what are the two hyperparameters that control the amount of regularization?\n",
        "\n",
        "a) Alpha and Beta  \n",
        "b) Lambda and Gamma  \n",
        "c) Alpha and Lambda  \n",
        "d) Beta and Gamma\n",
        "\n",
        "**Question 4:** Which type(s) of variables can the Elastic Net model handle effectively?\n",
        "\n",
        "a) Only categorical variables  \n",
        "b) Only continuous variables  \n",
        "c) Both categorical and continuous variables  \n",
        "d) Only binary variables\n",
        "\n",
        "**Question 5:** When should you prefer using Elastic Net over Lasso or Ridge regression?\n",
        "\n",
        "a) When there are many features and some of them are highly correlated  \n",
        "b) When there are only a few features  \n",
        "c) When all features are independent  \n",
        "d) When you are dealing with a classification problem\n",
        "\n",
        "**Question 6:** What is the main advantage of the Elastic Net model over the Lasso and Ridge models?\n",
        "\n",
        "a) Simplicity in implementation  \n",
        "b) Handles multicollinearity better by considering both L1 and L2 regularization  \n",
        "c) Faster convergence during training  \n",
        "d) Suitable for non-linear relationships\n",
        "\n",
        "**Question 7:** Which of the following is true regarding the hyperparameter alpha in the Elastic Net model?\n",
        "\n",
        "a) Higher alpha results in stronger regularization  \n",
        "b) Lower alpha results in stronger regularization  \n",
        "c) Alpha does not affect the regularization strength  \n",
        "d) Alpha is only used in Lasso regularization\n",
        "\n",
        "**Question 8:** In the Elastic Net equation, what does the mixing parameter 'r' control?\n",
        "\n",
        "a) The strength of Lasso regularization  \n",
        "b) The balance between Lasso and Ridge regularization  \n",
        "c) The number of iterations during training  \n",
        "d) The learning rate for gradient descent\n",
        "\n",
        "**Question 9:** Elastic Net can be used for which of the following tasks?\n",
        "\n",
        "a) Regression only  \n",
        "b) Classification only  \n",
        "c) Both regression and classification  \n",
        "d) Dimensionality reduction\n",
        "\n",
        "**Question 10:** How would you select the optimal hyperparameters for the Elastic Net model?\n",
        "\n",
        "a) Randomly choose values and evaluate model performance  \n",
        "b) Use grid search or randomized search with cross-validation  \n",
        "c) Select the same values as you would for a standard linear regression model  \n",
        "d) Optimize for the number of features in the dataset\n",
        "\n",
        "**Answers:**\n",
        "1. a) Overfitting in linear regression\n",
        "2. a) Lasso and Ridge\n",
        "3. c) Alpha and Lambda\n",
        "4. c) Both categorical and continuous variables\n",
        "5. a) When there are many features and some of them are highly correlated\n",
        "6. b) Handles multicollinearity better by considering both L1 and L2 regularization\n",
        "7. a) Higher alpha results in stronger regularization\n",
        "8. b) The balance between Lasso and Ridge regularization\n",
        "9. c) Both regression and classification\n",
        "10. b) Use grid search or randomized search with cross-validation"
      ],
      "metadata": {
        "id": "Vh-fHnUrcM-S"
      }
    },
    {
      "cell_type": "markdown",
      "source": [
        "# Project Ideas"
      ],
      "metadata": {
        "id": "WfoWRNKit2bN"
      }
    },
    {
      "cell_type": "markdown",
      "source": [
        "\n",
        "1. **Predicting Disease Outcomes**:\n",
        "    - **Dataset**: Electronic health records with lab results, symptoms, and patient demographics.\n",
        "    - **Objective**: Predict the likelihood of a patient developing a specific disease (e.g., diabetes, hypertension) within the next year.\n",
        "  \n",
        "2. **Patient Readmission Prediction**:\n",
        "    - **Dataset**: Hospital admission and discharge records.\n",
        "    - **Objective**: Predict if a patient will be readmitted within 30 days after being discharged.\n",
        "\n",
        "3. **Drug Response Modeling**:\n",
        "    - **Dataset**: Patient genomics data and drug response records.\n",
        "    - **Objective**: Predict how a patient will respond to a specific drug based on their genetic makeup.\n",
        "\n",
        "4. **Optimal Treatment Pathways**:\n",
        "    - **Dataset**: Various treatments undergone by patients and their outcomes.\n",
        "    - **Objective**: Predict the most effective treatment strategy for future patients with similar health profiles.\n",
        "\n",
        "5. **Healthcare Expenditure Prediction**:\n",
        "    - **Dataset**: Historical healthcare expenditure data for individuals including medical procedures, prescriptions, and hospital stays.\n",
        "    - **Objective**: Predict future healthcare costs for a patient over the next year.\n",
        "\n",
        "6. **Diagnosis Classifier**:\n",
        "    - **Dataset**: Clinical notes, lab results, and imaging data.\n",
        "    - **Objective**: Classify diseases or medical conditions based on the provided clinical data.\n",
        "\n",
        "7. **Patient Length of Stay (LOS) Prediction**:\n",
        "    - **Dataset**: Hospital admission data with patient characteristics, medical conditions, and treatments.\n",
        "    - **Objective**: Predict the duration a patient will stay in the hospital.\n",
        "\n",
        "8. **Mortality Risk Prediction**:\n",
        "    - **Dataset**: Intensive care unit (ICU) patient data.\n",
        "    - **Objective**: Estimate the probability of patient mortality during their ICU stay.\n",
        "\n",
        "9. **Medical Imaging Analysis**:\n",
        "    - **Dataset**: Medical imaging datasets (like X-rays, MRIs).\n",
        "    - **Objective**: Use feature extraction techniques to derive meaningful features from images and use Elastic Net to predict disease presence or severity.\n",
        "\n",
        "10. **Personalized Health Risk Assessment**:\n",
        "    - **Dataset**: Lifestyle survey data, including dietary habits, exercise routines, and genetic information.\n",
        "    - **Objective**: Predict an individual's risk of developing lifestyle-related diseases.\n",
        "\n",
        "11. **Epidemic Outbreak Prediction**:\n",
        "    - **Dataset**: Historical epidemic data, socio-economic factors, and climate data.\n",
        "    - **Objective**: Predict the likelihood of an outbreak in a region within the next month.\n",
        "\n",
        "12. **Mental Health Predictor**:\n",
        "    - **Dataset**: Surveys, diagnostic tests, and patient demographics.\n",
        "    - **Objective**: Predict mental health disorders or the severity of a diagnosed condition.\n",
        "\n"
      ],
      "metadata": {
        "id": "my5TygAEt4eH"
      }
    },
    {
      "cell_type": "markdown",
      "source": [
        "# Practical Example"
      ],
      "metadata": {
        "id": "ucfbRoDIf7uc"
      }
    },
    {
      "cell_type": "markdown",
      "source": [
        "Here's a working example of using the Elastic Net model with a real-world health dataset. For this example, we'll use the \"diabetes\" dataset that comes with the scikit-learn library. This dataset contains ten baseline variables (age, sex, BMI, average blood pressure, and six blood serum measurements) and a quantitative measure of disease progression one year after baseline, which will be our target variable.\n",
        "\n",
        "Make sure you have the necessary libraries installed before running the code. You can install scikit-learn using `pip install scikit-learn`."
      ],
      "metadata": {
        "id": "-v47vSnadsCn"
      }
    },
    {
      "cell_type": "code",
      "source": [
        "import numpy as np\n",
        "import matplotlib.pyplot as plt\n",
        "from sklearn.datasets import load_diabetes\n",
        "from sklearn.model_selection import train_test_split\n",
        "from sklearn.linear_model import ElasticNet\n",
        "from sklearn.metrics import mean_squared_error\n",
        "\n",
        "# Load the diabetes dataset\n",
        "diabetes = load_diabetes()\n",
        "X = diabetes.data\n",
        "y = diabetes.target\n",
        "\n",
        "# Split the data into training and testing sets\n",
        "X_train, X_test, y_train, y_test = train_test_split(X, y, test_size=0.2, random_state=42)\n",
        "\n",
        "# Create and train the Elastic Net model\n",
        "alpha = 0.1  # L1 regularization parameter\n",
        "l1_ratio = 0.5  # Mix between L1 and L2 regularization (0.5 means equal L1 and L2)\n",
        "elastic_net = ElasticNet(alpha=alpha, l1_ratio=l1_ratio, random_state=42)\n",
        "elastic_net.fit(X_train, y_train)\n",
        "\n",
        "# Predict on the test set\n",
        "y_pred = elastic_net.predict(X_test)\n",
        "\n",
        "# Calculate Mean Squared Error (MSE)\n",
        "mse = mean_squared_error(y_test, y_pred)\n",
        "print(f\"Mean Squared Error: {mse}\")\n",
        "\n",
        "# Plot the coefficients\n",
        "plt.figure(figsize=(10, 6))\n",
        "plt.plot(elastic_net.coef_, marker='o', linestyle='none')\n",
        "plt.title(\"Elastic Net Coefficients\")\n",
        "plt.xlabel(\"Coefficient Index\")\n",
        "plt.ylabel(\"Coefficient Value\")\n",
        "plt.xticks(range(X.shape[1]), diabetes.feature_names, rotation=45)\n",
        "plt.show()"
      ],
      "metadata": {
        "id": "V0uVLu_Bdzke"
      },
      "execution_count": null,
      "outputs": []
    },
    {
      "cell_type": "markdown",
      "source": [
        "\n",
        "In this example, we load the diabetes dataset, split it into training and testing sets, create and train an Elastic Net model using the training data, predict on the test data, and finally, calculate the Mean Squared Error to evaluate the model's performance. The plot shows the coefficients of the model's features, which helps to understand the feature importance.\n",
        "\n",
        "Remember that you can adjust the `alpha` and `l1_ratio` parameters to control the level of regularization and the mix between L1 and L2 regularization in the Elastic Net model. The choice of these parameters may require some tuning depending on the dataset and problem at hand."
      ],
      "metadata": {
        "id": "yZv9ZwSldnup"
      }
    }
  ]
}