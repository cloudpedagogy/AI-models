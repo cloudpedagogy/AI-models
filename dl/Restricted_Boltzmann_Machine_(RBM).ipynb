{
  "nbformat": 4,
  "nbformat_minor": 0,
  "metadata": {
    "colab": {
      "provenance": [],
      "gpuType": "T4"
    },
    "kernelspec": {
      "name": "python3",
      "display_name": "Python 3"
    },
    "language_info": {
      "name": "python"
    },
    "accelerator": "GPU"
  },
  "cells": [
    {
      "cell_type": "markdown",
      "source": [
        "# Restricted Boltzmann Machine (RBM) Model Background"
      ],
      "metadata": {
        "id": "bj9DGOXiBLOT"
      }
    },
    {
      "cell_type": "markdown",
      "source": [
        "The Restricted Boltzmann Machine (RBM) is a type of generative stochastic artificial neural network. It falls under the broader category of unsupervised learning algorithms and is particularly useful in areas such as collaborative filtering, feature learning, dimensionality reduction, and generative modeling.\n",
        "\n",
        "Here's an overview of RBM, along with its pros and cons, and when you should consider using it:\n",
        "\n",
        "**Restricted Boltzmann Machine (RBM):**\n",
        "- RBMs are probabilistic graphical models that consist of visible units and hidden units, where each unit can be binary or real-valued.\n",
        "- It's called \"restricted\" because there are no connections between units within the same layer (no visible-to-visible or hidden-to-hidden connections).\n",
        "- During training, RBMs learn to model the probability distribution of the training data by adjusting their weights to minimize the difference between the training data and the model's generated samples.\n",
        "\n",
        "**Pros of RBM:**\n",
        "1. **Generative Modeling:** RBMs can be used to generate new samples similar to the training data. This makes them useful for tasks like data augmentation and creating synthetic data for training other models.\n",
        "2. **Unsupervised Learning:** RBMs can learn patterns in unlabeled data, making them suitable for unsupervised learning tasks like pretraining deep neural networks or learning meaningful representations from data.\n",
        "3. **Dimensionality Reduction:** RBMs can learn compressed representations of data by using a smaller number of hidden units compared to the input features.\n",
        "4. **Collaborative Filtering:** RBMs have been successfully used in recommendation systems to model user-item interactions and predict missing values.\n",
        "5. **Training Efficiency:** RBMs can be trained using efficient algorithms such as Contrastive Divergence (CD), which helps speed up the learning process.\n",
        "\n",
        "**Cons of RBM:**\n",
        "1. **Limited Representational Power:** RBMs may struggle with capturing complex dependencies and hierarchies in data, which can be better handled by more advanced deep learning architectures like Deep Belief Networks (DBNs) or deep neural networks.\n",
        "2. **Training Challenges:** While CD makes training more efficient, it can still be computationally expensive, especially for large datasets.\n",
        "3. **Hyperparameter Tuning:** RBMs have several hyperparameters that need to be carefully tuned for optimal performance, which can be time-consuming.\n",
        "4. **Reconstruction Error:** The quality of generated samples might not be as high as other more advanced generative models like Variational Autoencoders (VAEs) or Generative Adversarial Networks (GANs).\n",
        "\n",
        "**When to Use RBM:**\n",
        "Consider using RBMs in the following scenarios:\n",
        "1. **Unlabeled Data:** When you have a large amount of unlabeled data and you want to learn useful representations from it.\n",
        "2. **Pretraining Deep Networks:** RBMs can be used as a pretraining step for deep neural networks to initialize the weights before fine-tuning with supervised learning.\n",
        "3. **Collaborative Filtering:** For building recommendation systems or collaborative filtering tasks where you want to predict user preferences based on past interactions.\n",
        "4. **Generative Modeling:** If you need to generate synthetic data that resembles the original data distribution, RBMs can be useful for generative modeling tasks.\n",
        "\n"
      ],
      "metadata": {
        "id": "dRu2hTMF9ifg"
      }
    },
    {
      "cell_type": "markdown",
      "source": [
        "# Code Example"
      ],
      "metadata": {
        "id": "k4dWBDdAbK_S"
      }
    },
    {
      "cell_type": "code",
      "source": [
        "import numpy as np\n",
        "import matplotlib.pyplot as plt\n",
        "from sklearn.datasets import fetch_openml\n",
        "from sklearn.neural_network import BernoulliRBM\n",
        "\n",
        "# Load the MNIST dataset\n",
        "mnist = fetch_openml('mnist_784', version=1)\n",
        "data = mnist.data / 255.0  # Scale the data between 0 and 1\n",
        "\n",
        "# Create and train the Restricted Boltzmann Machine\n",
        "rbm = BernoulliRBM(n_components=100, learning_rate=0.01, n_iter=10, random_state=0)\n",
        "rbm.fit(data)\n",
        "\n",
        "# Helper function to visualize the weights learned by the RBM\n",
        "def plot_weights(rbm, n_cols=10):\n",
        "    n_hidden_units = rbm.n_components\n",
        "    n_rows = int(np.ceil(n_hidden_units / n_cols))\n",
        "\n",
        "    plt.figure(figsize=(n_cols, n_rows))\n",
        "    for i in range(n_hidden_units):\n",
        "        plt.subplot(n_rows, n_cols, i + 1)\n",
        "        plt.imshow(rbm.components_[i].reshape(28, 28), cmap='gray', interpolation='nearest')\n",
        "        plt.axis('off')\n",
        "    plt.tight_layout()\n",
        "    plt.show()\n",
        "\n",
        "# Visualize the learned features (weights) by the RBM\n",
        "plot_weights(rbm)\n"
      ],
      "metadata": {
        "id": "MdriKp_WUrht"
      },
      "execution_count": null,
      "outputs": []
    },
    {
      "cell_type": "markdown",
      "source": [
        "# Code breakdown"
      ],
      "metadata": {
        "id": "NEYZ3KHk02YY"
      }
    },
    {
      "cell_type": "markdown",
      "source": [
        "\n",
        "1. Import the required libraries:\n",
        "   - `numpy` (imported as `np`): A library for numerical computing in Python.\n",
        "   - `matplotlib.pyplot` (imported as `plt`): A plotting library used for visualizations.\n",
        "   - `sklearn.datasets`: A module from scikit-learn that provides various datasets for machine learning tasks.\n",
        "   - `sklearn.neural_network.BernoulliRBM`: A class for training Restricted Boltzmann Machines (RBMs).\n",
        "\n",
        "2. Load the MNIST dataset:\n",
        "   - `fetch_openml('mnist_784', version=1)`: Fetches the MNIST dataset, which consists of grayscale images of handwritten digits from 0 to 9, each of size 28x28 pixels.\n",
        "   - The dataset contains the 'data' and 'target' attributes. Here, we normalize the pixel values to scale them between 0 and 1 by dividing by 255.0.\n",
        "\n",
        "3. Create and train the Restricted Boltzmann Machine (RBM):\n",
        "   - `BernoulliRBM(n_components=100, learning_rate=0.01, n_iter=10, random_state=0)`: Initializes a BernoulliRBM object with 100 hidden units (components), a learning rate of 0.01, and 10 training iterations. The `random_state` parameter is set for reproducibility.\n",
        "   - `rbm.fit(data)`: Trains the RBM using the data loaded from MNIST. The RBM tries to learn a compact representation of the input data by finding lower-dimensional features that capture patterns in the data.\n",
        "\n",
        "4. Define a helper function to visualize the weights learned by the RBM:\n",
        "   - `def plot_weights(rbm, n_cols=10)`: Defines a function called `plot_weights` that takes the trained RBM and an optional parameter `n_cols` (default value is 10).\n",
        "   - The function visualizes the learned weights (features) of the RBM. The number of columns (`n_cols`) is used to organize the visualizations.\n",
        "\n",
        "5. Visualize the learned features (weights) by the RBM:\n",
        "   - `plot_weights(rbm)`: Calls the `plot_weights` function with the trained RBM as an argument to visualize the learned features.\n",
        "   - The function displays a grid of images, where each image corresponds to a learned feature (hidden unit) in the RBM. The RBM tries to capture high-level patterns in the data as these learned features.\n",
        "\n",
        "The code shows how to use an RBM to learn features from the MNIST dataset and visualize the learned features as a grid of images. RBMs are unsupervised learning models that can be used for feature learning and pretraining deep neural networks. The learned features in this example represent lower-dimensional representations of the input data, capturing patterns that are useful for reconstructing the original data or for further downstream tasks such as classification or clustering."
      ],
      "metadata": {
        "id": "FD4oe8dc1UHR"
      }
    },
    {
      "cell_type": "markdown",
      "source": [
        "# Real world application"
      ],
      "metadata": {
        "id": "_oG4v5lD2Lgy"
      }
    },
    {
      "cell_type": "markdown",
      "source": [
        "A real-world example of using Restricted Boltzmann Machines (RBM) in a healthcare setting is in the field of medical imaging analysis. RBMs can be employed for feature learning and extraction from medical images, which is a crucial step in various medical image processing tasks.\n",
        "\n",
        "Let's consider the application of RBMs in detecting abnormalities in X-ray images:\n",
        "\n",
        "**Example: Detection of Pneumonia in Chest X-rays using RBM**\n",
        "\n",
        "**1. Data Collection:** A large dataset of chest X-ray images is collected, containing both normal and pneumonia-affected images.\n",
        "\n",
        "**2. Preprocessing:** The images are preprocessed to remove noise, resize them to a consistent resolution, and ensure uniformity in the dataset.\n",
        "\n",
        "**3. RBM Feature Learning:** RBMs are used for unsupervised feature learning. The RBM is trained on a subset of the X-ray images without any labels. The RBM aims to learn representative features from the images, capturing patterns that differentiate normal and pneumonia-affected lungs.\n",
        "\n",
        "**4. Feature Extraction:** Once the RBM is trained, it is used to extract features from the entire dataset of chest X-rays, both normal and pneumonia cases.\n",
        "\n",
        "**5. Classification:** The extracted features are then fed into a classifier, such as a Support Vector Machine (SVM) or a neural network, along with their corresponding labels (normal or pneumonia).\n",
        "\n",
        "**6. Detection:** The classifier leverages the learned features to predict whether a given X-ray image shows signs of pneumonia or not.\n",
        "\n",
        "**7. Evaluation:** The performance of the system is evaluated using metrics like sensitivity, specificity, accuracy, and area under the receiver operating characteristic curve (AUC-ROC).\n",
        "\n",
        "**Benefits of using RBMs in this context:**\n",
        "- RBMs can learn complex and hierarchical features from raw image data, automatically identifying patterns that are relevant for pneumonia detection.\n",
        "- Unsupervised learning with RBMs allows the model to discover important features without requiring manual labeling, which can be expensive and time-consuming in the medical domain.\n",
        "- RBMs can handle a large amount of data, which is essential when dealing with extensive medical image datasets.\n",
        "\n",
        "By using RBMs for feature learning, the detection system can become more accurate and robust, assisting healthcare professionals in diagnosing pneumonia more efficiently and potentially aiding in early detection and treatment."
      ],
      "metadata": {
        "id": "56qSSVddHRQn"
      }
    },
    {
      "cell_type": "markdown",
      "source": [
        "# FAQ"
      ],
      "metadata": {
        "id": "YAsuEPkv3wuo"
      }
    },
    {
      "cell_type": "markdown",
      "source": [
        "\n",
        "1. **What is a Restricted Boltzmann Machine (RBM)?**\n",
        "   - A Restricted Boltzmann Machine is a type of artificial neural network that belongs to the family of generative models. It consists of a visible layer and a hidden layer, but there are no connections within a layer (hence \"restricted\").\n",
        "\n",
        "2. **How does an RBM learn and generate data?**\n",
        "   - RBMs are trained using unsupervised learning. During training, they adjust their parameters to reconstruct the input data and maximize the likelihood of the training samples. After training, they can generate new data samples by sampling from the learned probability distribution.\n",
        "\n",
        "3. **What is the Boltzmann Machine's connection to statistical physics?**\n",
        "   - RBMs are inspired by statistical physics and the Boltzmann distribution, which is used to model the probabilities of states in a physical system. The energy-based formulation of RBMs is analogous to the concept of energy in statistical physics.\n",
        "\n",
        "4. **What are the applications of Restricted Boltzmann Machines?**\n",
        "   - RBMs have found applications in various domains, including collaborative filtering, dimensionality reduction, feature learning, topic modeling, and generative modeling of data such as images, music, and text.\n",
        "\n",
        "5. **Why are RBMs called generative models?**\n",
        "   - RBMs are generative models because they can learn the underlying probability distribution of the training data and then generate new samples from that distribution. This ability to create new data points makes them valuable in generating novel content.\n",
        "\n",
        "6. **What is the contrastive divergence algorithm used in RBM training?**\n",
        "   - The contrastive divergence (CD) algorithm is a popular method for training RBMs efficiently. It is an approximation of the log-likelihood gradient, which allows for faster convergence compared to traditional gradient-based methods.\n",
        "\n",
        "7. **Are RBMs still widely used in modern deep learning?**\n",
        "   - While RBMs have been historically significant in the development of deep learning, their usage has declined with the rise of more powerful and scalable models like deep neural networks and variants of autoencoders. However, they still hold relevance in certain scenarios and research areas.\n",
        "\n",
        "8. **Can RBMs be used in a deep learning architecture?**\n",
        "   - Yes, RBMs can be stacked to form Deep Belief Networks (DBNs). The hidden layers of one RBM become the visible layers of the next, allowing for deep architectures. However, this approach has mostly been replaced by more effective deep learning architectures like deep neural networks.\n",
        "\n",
        "9. **What are the limitations of RBMs?**\n",
        "   - RBMs suffer from slow convergence, especially when dealing with high-dimensional data. They are also sensitive to hyperparameters and require careful tuning. Additionally, training RBMs on large datasets can be computationally expensive.\n",
        "\n",
        "10. **Are there any extensions or variations of RBMs?**\n",
        "    - Yes, there are several variations of RBMs, such as the Gaussian-Bernoulli RBM, Binary-Binary RBM, and Factored RBM, each designed to address specific limitations or modeling requirements.\n",
        "\n",
        "Remember that as the field of deep learning and artificial intelligence progresses, new developments may emerge that could impact the popularity and use of certain models, including the RBM."
      ],
      "metadata": {
        "id": "i452MNjr7ypI"
      }
    },
    {
      "cell_type": "markdown",
      "source": [
        "# Quiz"
      ],
      "metadata": {
        "id": "hH2b6GO17iEd"
      }
    },
    {
      "cell_type": "markdown",
      "source": [
        "\n",
        "\n",
        "**Question 1:** What type of neural network architecture is a Restricted Boltzmann Machine?\n",
        "\n",
        "a) Convolutional Neural Network  \n",
        "b) Recurrent Neural Network  \n",
        "c) Feedforward Neural Network  \n",
        "d) Generative Adversarial Network  \n",
        "\n",
        "**Question 2:** RBMs are commonly used for which of the following tasks?\n",
        "\n",
        "a) Image classification  \n",
        "b) Speech recognition  \n",
        "c) Reinforcement learning  \n",
        "d) Collaborative filtering  \n",
        "\n",
        "**Question 3:** RBMs consist of two main layers. What are these layers called?\n",
        "\n",
        "a) Input and Output layers  \n",
        "b) Hidden and Visible layers  \n",
        "c) Feature and Target layers  \n",
        "d) Encoder and Decoder layers  \n",
        "\n",
        "**Question 4:** What is the primary objective of training an RBM?\n",
        "\n",
        "a) Minimize reconstruction error  \n",
        "b) Maximize generative accuracy  \n",
        "c) Minimize classification loss  \n",
        "d) Maximize likelihood of training data  \n",
        "\n",
        "**Question 5:** In an RBM, which phase involves updating the hidden units' activations based on the visible units' states?\n",
        "\n",
        "a) Positive phase  \n",
        "b) Negative phase  \n",
        "c) Gradient phase  \n",
        "d) Sampling phase  \n",
        "\n",
        "**Question 6:** What is the role of the contrastive divergence algorithm in training RBMs?\n",
        "\n",
        "a) It calculates the gradient of the likelihood function.  \n",
        "b) It optimizes the weights using backpropagation.  \n",
        "c) It balances the weights between visible and hidden layers.  \n",
        "d) It adjusts the learning rate dynamically during training.  \n",
        "\n",
        "**Question 7:** What is the main advantage of RBMs in collaborative filtering tasks?\n",
        "\n",
        "a) They require less memory to store weights.  \n",
        "b) They naturally handle sequential data.  \n",
        "c) They can capture complex feature interactions.  \n",
        "d) They don't require labeled training data.  \n",
        "\n",
        "**Question 8:** How does a RBM model differ from an Autoencoder?\n",
        "\n",
        "a) RBMs have more layers than Autoencoders.  \n",
        "b) Autoencoders have a generative aspect, while RBMs don't.  \n",
        "c) Autoencoders don't have hidden layers like RBMs.  \n",
        "d) RBMs have an encoder-decoder structure, unlike Autoencoders.  \n",
        "\n",
        "**Question 9:** What problem does the \"vanishing gradient\" issue refer to in training RBMs?\n",
        "\n",
        "a) The weights in the network become too large, causing instability.  \n",
        "b) The network's error gradient becomes too small for effective learning.  \n",
        "c) The network converges too quickly to a suboptimal solution.  \n",
        "d) The learning rate increases uncontrollably during training.  \n",
        "\n",
        "**Question 10:** RBMs can be used for feature learning in deep neural networks. What does \"feature learning\" refer to in this context?\n",
        "\n",
        "a) Training the model to accurately predict labels.  \n",
        "b) Automatically discovering meaningful representations from data.  \n",
        "c) Regularizing the weights to prevent overfitting.  \n",
        "d) Balancing the weights between different layers of the network.  \n",
        "\n",
        "**Answers:**\n",
        "1. c) Feedforward Neural Network\n",
        "2. d) Collaborative filtering\n",
        "3. b) Hidden and Visible layers\n",
        "4. d) Maximize likelihood of training data\n",
        "5. a) Positive phase\n",
        "6. a) It calculates the gradient of the likelihood function.\n",
        "7. c) They can capture complex feature interactions.\n",
        "8. b) Autoencoders have a generative aspect, while RBMs don't.\n",
        "9. b) The network's error gradient becomes too small for effective learning.\n",
        "10. b) Automatically discovering meaningful representations from data."
      ],
      "metadata": {
        "id": "4OI8cl857j6s"
      }
    },
    {
      "cell_type": "markdown",
      "source": [
        "# Project Ideas"
      ],
      "metadata": {
        "id": "q-LvDIgW4ND3"
      }
    },
    {
      "cell_type": "markdown",
      "source": [
        "\n",
        "1. **Medical Image Analysis**:\n",
        "   - **Disease Detection**: Use RBMs to process and analyze medical images such as X-rays, MRIs, or CT scans to detect diseases like tumors, fractures, or other abnormalities.\n",
        "   - **Segmentation**: Use RBMs for segmenting anatomical structures in medical images.\n",
        "\n",
        "2. **EHR (Electronic Health Record) Analysis**:\n",
        "   - **Disease Prediction**: Process EHR data using RBMs to predict the onset of specific diseases based on historical health records.\n",
        "   - **Data Imputation**: Handle missing data in EHRs by training an RBM to impute the missing values.\n",
        "\n",
        "3. **Genomic Data Analysis**:\n",
        "   - **Genetic Predisposition**: Analyze genetic data to determine predispositions to certain diseases using RBMs.\n",
        "   - **Pattern Recognition**: Identify patterns or commonalities in DNA sequences that might be indicative of disease or health outcomes.\n",
        "\n",
        "4. **Drug Discovery**:\n",
        "   - **Compound Analysis**: Use RBMs to analyze chemical compounds and predict their potential therapeutic effects or side-effects.\n",
        "   - **Protein Folding**: Utilize RBMs to understand protein structures which is crucial in drug design.\n",
        "\n",
        "5. **Wearable Device Data Analysis**:\n",
        "   - **Activity Classification**: Analyze data from wearables like smartwatches to classify user activities and relate them to health outcomes.\n",
        "   - **Vital Sign Monitoring**: Process and predict vital sign anomalies like irregular heartbeats.\n",
        "\n",
        "6. **Natural Language Processing for Medical Literature**:\n",
        "   - **Symptom-Disease Relation Extraction**: Process medical literature to extract relationships between symptoms and diseases using RBMs.\n",
        "   - **Medication Recommendation Extraction**: Analyze patient cases in literature to determine which medications were most commonly recommended for certain conditions.\n",
        "\n",
        "7. **Patient Admission Prediction**:\n",
        "   - Use RBMs to analyze patient data to predict the likelihood of patients getting admitted to a hospital in the near future.\n",
        "\n",
        "8. **Treatment Pathway Optimization**:\n",
        "   - **Treatment Recommendation**: By analyzing past patient data and treatment outcomes, design an RBM to recommend optimal treatment pathways for future patients.\n",
        "  \n",
        "9. **Speech Analysis for Medical Diagnosis**:\n",
        "   - **Mental Health Analysis**: Process speech patterns with RBMs to detect signs of mental health issues such as depression or anxiety.\n",
        "   - **Neurological Disorder Detection**: Identify signs of neurological disorders through anomalies in speech patterns.\n",
        "\n",
        "10. **Multi-modal Data Integration**:\n",
        "   - Combine multiple types of healthcare data (e.g., images, genomic data, EHR) to get a holistic view of a patient's health and use RBMs to derive meaningful insights from this combined data.\n",
        "\n"
      ],
      "metadata": {
        "id": "la0CZaNk4PLx"
      }
    },
    {
      "cell_type": "markdown",
      "source": [
        "# Practical Example"
      ],
      "metadata": {
        "id": "Gj-gUIq4Hl0g"
      }
    },
    {
      "cell_type": "markdown",
      "source": [
        "Here's a simplified working example of a Restricted Boltzmann Machine (RBM) model using a hypothetical healthcare example dataset. In this example, we'll use a binary dataset where each row represents a patient and each column represents a different medical condition, indicating whether the patient has that condition or not.\n",
        "\n",
        "Keep in mind that this example is for educational purposes and doesn't necessarily reflect the complexities of a real-world RBM implementation for healthcare data.\n",
        "\n",
        "```python\n",
        "import numpy as np\n",
        "from sklearn.model_selection import train_test_split\n",
        "from sklearn.metrics import mean_squared_error\n",
        "from sklearn.preprocessing import binarize\n",
        "from sklearn.utils import shuffle\n",
        "\n",
        "# Generate a hypothetical healthcare dataset\n",
        "np.random.seed(42)\n",
        "num_patients = 1000\n",
        "num_conditions = 10\n",
        "health_data = np.random.randint(0, 2, size=(num_patients, num_conditions))\n",
        "\n",
        "# Split the data into training and testing sets\n",
        "train_data, test_data = train_test_split(health_data, test_size=0.2, random_state=42)\n",
        "\n",
        "# Initialize RBM parameters\n",
        "num_hidden_units = 5\n",
        "learning_rate = 0.1\n",
        "num_epochs = 50\n",
        "\n",
        "# Initialize weights and biases\n",
        "weights = np.random.randn(num_conditions, num_hidden_units)\n",
        "hidden_bias = np.zeros(num_hidden_units)\n",
        "visible_bias = np.zeros(num_conditions)\n",
        "\n",
        "# Training RBM using Contrastive Divergence\n",
        "def sigmoid(x):\n",
        "    return 1 / (1 + np.exp(-x))\n",
        "\n",
        "def gibbs_sampling(visible_data):\n",
        "    hidden_prob = sigmoid(np.dot(visible_data, weights) + hidden_bias)\n",
        "    hidden_states = np.random.binomial(1, hidden_prob)\n",
        "    \n",
        "    visible_prob = sigmoid(np.dot(hidden_states, weights.T) + visible_bias)\n",
        "    visible_states = np.random.binomial(1, visible_prob)\n",
        "    \n",
        "    return hidden_prob, hidden_states, visible_prob, visible_states\n",
        "\n",
        "for epoch in range(num_epochs):\n",
        "    train_data = shuffle(train_data)\n",
        "    for i in range(len(train_data)):\n",
        "        v0 = train_data[i]\n",
        "        \n",
        "        ph0, h0, _, _ = gibbs_sampling(v0)\n",
        "        _, hk, vk, _ = gibbs_sampling(h0)\n",
        "        \n",
        "        delta_weights = np.outer(v0, ph0) - np.outer(vk, hk)\n",
        "        weights += learning_rate * delta_weights\n",
        "        hidden_bias += learning_rate * (ph0 - hk)\n",
        "        visible_bias += learning_rate * (v0 - vk)\n",
        "    \n",
        "    # Calculate reconstruction error\n",
        "    reconstructed_data = sigmoid(np.dot(test_data, weights.T) + visible_bias)\n",
        "    mse = mean_squared_error(test_data, binarize(reconstructed_data, threshold=0.5))\n",
        "    print(f\"Epoch {epoch+1}/{num_epochs} - Mean Squared Error: {mse:.4f}\")\n",
        "\n",
        "print(\"Training complete!\")\n",
        "\n",
        "# Generate new samples from the learned RBM model\n",
        "num_samples = 5\n",
        "random_data = np.random.randint(0, 2, size=(num_samples, num_conditions))\n",
        "_, sampled_hidden_states, _, sampled_visible_states = gibbs_sampling(random_data)\n",
        "\n",
        "print(\"\\nGenerated samples:\")\n",
        "print(sampled_visible_states)\n",
        "```\n",
        "\n",
        "Please note that RBMs are just one type of generative model, and using them on real-world healthcare data requires careful consideration of ethical, privacy, and security concerns. Additionally, this example doesn't cover all the nuances and optimizations that a full RBM implementation would require."
      ],
      "metadata": {
        "id": "cI30XYE7Hhgf"
      }
    }
  ]
}