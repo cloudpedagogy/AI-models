{
  "nbformat": 4,
  "nbformat_minor": 0,
  "metadata": {
    "colab": {
      "provenance": [],
      "gpuType": "T4",
      "authorship_tag": "ABX9TyOsDxefKVQDKw7s59d/AChH",
      "include_colab_link": true
    },
    "kernelspec": {
      "name": "python3",
      "display_name": "Python 3"
    },
    "language_info": {
      "name": "python"
    },
    "accelerator": "GPU"
  },
  "cells": [
    {
      "cell_type": "markdown",
      "metadata": {
        "id": "view-in-github",
        "colab_type": "text"
      },
      "source": [
        "<a href=\"https://colab.research.google.com/github/cloudpedagogy/AI-models/blob/main/dl/Radial_Basis_Function_Network_(RBFN).ipynb\" target=\"_parent\"><img src=\"https://colab.research.google.com/assets/colab-badge.svg\" alt=\"Open In Colab\"/></a>"
      ]
    },
    {
      "cell_type": "markdown",
      "source": [
        "# Radial Basis Function Network (RBFN) Model Background"
      ],
      "metadata": {
        "id": "Oq7A-F_EEjIF"
      }
    },
    {
      "cell_type": "markdown",
      "source": [
        "The Radial Basis Function Network (RBFN) is a type of artificial neural network that is commonly used for function approximation and pattern recognition tasks. It is a two-layer neural network with an input layer and a radial basis function layer. Here's how it works:\n",
        "\n",
        "1. Input Layer: This layer consists of neurons that receive the input data. Each neuron represents one input feature, and the values of these neurons are simply the input values themselves.\n",
        "\n",
        "2. Radial Basis Function Layer: This is the hidden layer of the RBFN. Each neuron in this layer is associated with a center vector and a radial basis function. The center vectors represent points in the input space, and the radial basis functions are used to measure the similarity between the input data and the center vectors.\n",
        "\n",
        "3. Output Layer: This is the final layer, which usually consists of a single neuron in regression tasks or multiple neurons in classification tasks. The output is computed based on the weighted sum of the outputs from the radial basis function layer.\n",
        "\n",
        "**The process of training an RBFN involves two main steps**:\n",
        "\n",
        "1. Clustering: During this step, the center vectors are determined using a clustering algorithm (e.g., k-means) applied to the input data. These centers are chosen to represent regions in the input space where the data is concentrated.\n",
        "\n",
        "2. Weight Optimization: Once the center vectors are fixed, the weights of the connections between the radial basis function layer and the output layer are optimized using methods like least squares or gradient descent.\n",
        "\n",
        "**Pros of Radial Basis Function Networks (RBFNs)**:\n",
        "1. Effective for Function Approximation: RBFNs are particularly good at approximating complex functions, especially when the relationship between input and output is nonlinear.\n",
        "\n",
        "2. Interpolation: RBFNs have the property of exact interpolation, which means they can pass through all the data points during training. This can be useful in some applications.\n",
        "\n",
        "3. Smoother Outputs: The radial basis functions tend to produce smoother outputs compared to other types of neural networks, making them well-suited for some applications like function approximation and noise reduction.\n",
        "\n",
        "**Cons of Radial Basis Function Networks (RBFNs)**:\n",
        "1. Overfitting: RBFNs can be prone to overfitting, especially when the number of centers is too large or the clustering process is not well-optimized.\n",
        "\n",
        "2. Computational Complexity: Training an RBFN can be computationally expensive, especially if the dataset is large or the number of centers is high.\n",
        "\n",
        "3. Choice of Centers: The performance of RBFNs heavily depends on the proper selection of center vectors, and choosing an inappropriate number or distribution of centers can lead to suboptimal results.\n",
        "\n",
        "**When to use Radial Basis Function Networks (RBFNs)**:\n",
        "1. Function Approximation: RBFNs are well-suited for approximating complex functions when the relationship between input and output is not easily captured by other models like linear regression.\n",
        "\n",
        "2. Pattern Recognition: RBFNs can be useful for pattern recognition tasks, especially when dealing with non-linearly separable classes.\n",
        "\n",
        "3. Noise Reduction: Due to their smoothing property, RBFNs can be effective in reducing noise in data, particularly in time series forecasting and other noisy signal processing tasks.\n",
        "\n",
        "4. Small to Medium-sized Datasets: RBFNs can perform well with smaller datasets, but they might become computationally expensive with very large datasets.\n",
        "\n",
        "Overall, while RBFNs have their strengths in certain applications, they are not as widely used as other neural network architectures like feedforward neural networks or convolutional neural networks. If you have a specific problem where function approximation or pattern recognition with smooth outputs is essential, and you have a moderate-sized dataset, RBFNs could be a reasonable option to consider. However, in many cases, other neural network architectures might be more popular and easier to work with."
      ],
      "metadata": {
        "id": "Uh8ZiGvU7anZ"
      }
    },
    {
      "cell_type": "markdown",
      "source": [
        "# Code Example"
      ],
      "metadata": {
        "id": "8DOnKrdmbSCI"
      }
    },
    {
      "cell_type": "code",
      "source": [
        "\n",
        "import numpy as np\n",
        "import matplotlib.pyplot as plt\n",
        "\n",
        "# Define the 1D function we want to approximate (example function: sin(x))\n",
        "def target_function(x):\n",
        "    return np.sin(x)\n",
        "\n",
        "# Generate training data (input values)\n",
        "x_train = np.linspace(0, 2 * np.pi, 50)\n",
        "y_train = target_function(x_train)\n",
        "\n",
        "class RBFN:\n",
        "    def __init__(self, num_rbf_units, learning_rate=0.1, epochs=100):\n",
        "        self.num_rbf_units = num_rbf_units\n",
        "        self.learning_rate = learning_rate\n",
        "        self.epochs = epochs\n",
        "        self.centers = None\n",
        "        self.widths = None\n",
        "        self.weights = None\n",
        "\n",
        "    def radial_basis_function(self, x, center, width):\n",
        "        return np.exp(-(x - center) ** 2 / (2 * width ** 2))\n",
        "\n",
        "    def fit(self, X, y):\n",
        "        # Randomly initialize RBF centers and widths\n",
        "        self.centers = np.linspace(min(X), max(X), self.num_rbf_units)\n",
        "        self.widths = np.ones(self.num_rbf_units) * (max(X) - min(X)) / self.num_rbf_units\n",
        "\n",
        "        # Calculate RBF activations\n",
        "        rbf_activations = np.zeros((len(X), self.num_rbf_units))\n",
        "        for i in range(len(X)):\n",
        "            for j in range(self.num_rbf_units):\n",
        "                rbf_activations[i, j] = self.radial_basis_function(X[i], self.centers[j], self.widths[j])\n",
        "\n",
        "        # Solve for RBFN weights using pseudo-inverse\n",
        "        self.weights = np.linalg.pinv(rbf_activations) @ y\n",
        "\n",
        "    def predict(self, X):\n",
        "        # Calculate RBF activations for prediction\n",
        "        rbf_activations = np.zeros((len(X), self.num_rbf_units))\n",
        "        for i in range(len(X)):\n",
        "            for j in range(self.num_rbf_units):\n",
        "                rbf_activations[i, j] = self.radial_basis_function(X[i], self.centers[j], self.widths[j])\n",
        "\n",
        "        # Calculate the predicted output\n",
        "        y_pred = rbf_activations @ self.weights\n",
        "        return y_pred\n",
        "\n",
        "# Create and train the RBFN model\n",
        "num_rbf_units = 10\n",
        "rbfn_model = RBFN(num_rbf_units)\n",
        "rbfn_model.fit(x_train, y_train)\n",
        "\n",
        "# Generate test data for plotting\n",
        "x_test = np.linspace(0, 2 * np.pi, 100)\n",
        "y_test = target_function(x_test)\n",
        "y_pred = rbfn_model.predict(x_test)\n",
        "\n",
        "# Plot the target function and the RBFN approximation\n",
        "plt.figure()\n",
        "plt.plot(x_test, y_test, label='Target Function', color='b')\n",
        "plt.plot(x_test, y_pred, label='RBFN Approximation', color='r', linestyle='--')\n",
        "plt.scatter(x_train, y_train, color='b', label='Training Data')\n",
        "plt.scatter(rbfn_model.centers, target_function(rbfn_model.centers), color='g', marker='o', label='RBF Centers')\n",
        "plt.legend()\n",
        "plt.title('Radial Basis Function Network (RBFN) Approximation')\n",
        "plt.xlabel('Input (x)')\n",
        "plt.ylabel('Output (y)')\n",
        "plt.grid(True)\n",
        "plt.show()\n",
        "\n"
      ],
      "metadata": {
        "id": "nEzkLq1RF2Ye"
      },
      "execution_count": null,
      "outputs": []
    },
    {
      "cell_type": "markdown",
      "source": [
        "# Code breakdown"
      ],
      "metadata": {
        "id": "dubTMAAc1OZf"
      }
    },
    {
      "cell_type": "markdown",
      "source": [
        "\n",
        "1. Import necessary libraries:\n",
        "   - `numpy`: For numerical computations.\n",
        "   - `matplotlib.pyplot`: For plotting the results.\n",
        "\n",
        "2. Define the target function:\n",
        "   - `target_function(x)`: This is the 1D function that we want to approximate. In this example, it's the sine function `np.sin(x)`.\n",
        "\n",
        "3. Generate training data:\n",
        "   - `x_train`: An array of input values (`x`) evenly spaced between 0 and 2π (inclusive) with 50 points.\n",
        "   - `y_train`: The corresponding target values (`y`) generated by applying the `target_function` to each element of `x_train`.\n",
        "\n",
        "4. Define the Radial Basis Function Network (RBFN) class (`RBFN`):\n",
        "   - The class contains methods for fitting the model and making predictions.\n",
        "   - The constructor `__init__(self, num_rbf_units, learning_rate=0.1, epochs=100)` initializes the RBFN model with the specified number of RBF units, learning rate, and epochs for training.\n",
        "\n",
        "5. Define the radial basis function (`radial_basis_function(self, x, center, width)`):\n",
        "   - This function calculates the radial basis function value for a given input `x`, a center point `center`, and a width `width`.\n",
        "\n",
        "6. Training the RBFN model (`fit(self, X, y)`):\n",
        "   - The method takes training data `X` and corresponding target values `y` as input.\n",
        "   - The RBF centers and widths are randomly initialized between the minimum and maximum values of the input data `X`.\n",
        "   - The RBF activations are calculated for each input data point and each RBF unit.\n",
        "   - The weights of the RBFN are calculated using the pseudo-inverse of the RBF activations and the target values `y`.\n",
        "\n",
        "7. Making predictions with the trained RBFN model (`predict(self, X)`):\n",
        "   - The method takes input data `X` as input.\n",
        "   - The RBF activations are calculated for each input data point and each RBF unit using the previously learned centers and widths.\n",
        "   - The predicted output `y_pred` is obtained by multiplying the RBF activations with the learned weights.\n",
        "\n",
        "8. Create and train the RBFN model:\n",
        "   - `num_rbf_units = 10`: The number of RBF units in the RBFN model.\n",
        "   - `rbfn_model = RBFN(num_rbf_units)`: Create an instance of the RBFN class with 10 RBF units.\n",
        "   - `rbfn_model.fit(x_train, y_train)`: Train the RBFN model using the training data (`x_train` and `y_train`).\n",
        "\n",
        "9. Generate test data for plotting:\n",
        "   - `x_test`: An array of input values (`x`) evenly spaced between 0 and 2π (inclusive) with 100 points for evaluation.\n",
        "   - `y_test`: The corresponding target values (`y`) generated by applying the `target_function` to each element of `x_test`.\n",
        "\n",
        "10. Make predictions using the trained RBFN model:\n",
        "   - `y_pred = rbfn_model.predict(x_test)`: Predict the output values (`y_pred`) for the test data (`x_test`) using the trained RBFN model.\n",
        "\n",
        "11. Plot the target function and the RBFN approximation:\n",
        "   - The target function (`y_test`) and the RBFN approximation (`y_pred`) are plotted against the input data (`x_test`) using `plt.plot()`.\n",
        "   - The training data points are plotted as blue dots using `plt.scatter()`.\n",
        "   - The RBF centers (`rbfn_model.centers`) are plotted as green circles using `plt.scatter()`.\n",
        "\n",
        "12. Additional plot settings:\n",
        "   - The plot is labeled, titled, and grid lines are displayed using appropriate functions from `matplotlib.pyplot`.\n",
        "   - The plot is displayed using `plt.show()`.\n",
        "\n",
        "In summary, this code demonstrates how to implement and use a Radial Basis Function Network (RBFN) for approximating a 1D function (sin(x)) using numpy and matplotlib in Python. The RBFN is trained using a set of training data points and then evaluated on a test data set. The target function, the RBFN approximation, and the training data points are plotted to visualize the performance of the RBFN model."
      ],
      "metadata": {
        "id": "dv75vTMcGGKs"
      }
    },
    {
      "cell_type": "markdown",
      "source": [
        "# Real world application"
      ],
      "metadata": {
        "id": "Id0w5r0h2XRN"
      }
    },
    {
      "cell_type": "markdown",
      "source": [
        "In a healthcare setting, Radial Basis Function Networks (RBFNs) can be used for various tasks, such as disease diagnosis, medical image analysis, and medical signal processing. Let's explore a real-world example of using RBFNs for medical image classification:\n",
        "\n",
        "**Medical Image Classification with RBFN:**\n",
        "\n",
        "Problem: Classifying X-ray images of chest radiographs as normal or abnormal (indicating potential lung diseases).\n",
        "\n",
        "1. **Data Collection and Preprocessing:**\n",
        "   - Collect a dataset of chest X-ray images, where each image is labeled as either \"normal\" or \"abnormal.\"\n",
        "   - Preprocess the images by resizing them to a fixed size and normalizing the pixel values.\n",
        "\n",
        "2. **Feature Extraction:**\n",
        "   - For medical image classification, handcrafted features can be extracted from the images to represent important characteristics.\n",
        "   - Commonly used features may include texture descriptors, shape-based features, and intensity-based statistics.\n",
        "\n",
        "3. **Radial Basis Function Network:**\n",
        "   - Once the features are extracted, the RBFN can be used for classification.\n",
        "   - The RBFN has three main layers: the input layer, the hidden layer, and the output layer.\n",
        "   - The input layer receives the extracted features from the preprocessing step.\n",
        "   - The hidden layer contains a set of radial basis functions that compute the distance between the input data and predefined centers.\n",
        "   - The output layer makes the final classification decision based on the computed distances.\n",
        "\n",
        "4. **Training the RBFN:**\n",
        "   - The RBFN is trained using supervised learning, where it learns to map the extracted features to the correct class labels.\n",
        "   - During training, the RBFN adjusts the weights of the radial basis functions and the output layer to minimize the classification error.\n",
        "\n",
        "5. **Validation and Testing:**\n",
        "   - The trained RBFN is evaluated on a separate validation set to tune hyperparameters and ensure it generalizes well to unseen data.\n",
        "   - The performance is further assessed on a separate testing set to obtain unbiased estimates of the model's accuracy.\n",
        "\n",
        "6. **Deployment and Clinical Application:**\n",
        "   - Once the RBFN is trained and validated, it can be deployed to assist medical professionals in the classification of chest X-ray images.\n",
        "   - The model can aid in the early detection of lung diseases, providing valuable insights to clinicians and potentially improving patient outcomes.\n",
        "\n",
        "Please note that the above example is a simplified representation of using RBFNs for medical image classification. In real-world scenarios, deep learning models like convolutional neural networks (CNNs) are more commonly used for medical image analysis due to their ability to automatically learn hierarchical features directly from the raw image data, eliminating the need for handcrafted feature extraction. However, RBFNs can still be applied in specific cases where feature engineering is critical or for hybrid approaches that combine handcrafted features with deep learning methods."
      ],
      "metadata": {
        "id": "6HcvcewnGA_K"
      }
    },
    {
      "cell_type": "markdown",
      "source": [
        "# FAQ"
      ],
      "metadata": {
        "id": "UhOBua7s3-q_"
      }
    },
    {
      "cell_type": "markdown",
      "source": [
        "\n",
        "1. What is a Radial Basis Function Network (RBFN) model?\n",
        "   - RBFN is a type of artificial neural network that uses radial basis functions as activation functions. It is primarily used for function approximation, pattern recognition, and interpolation tasks.\n",
        "\n",
        "2. How does an RBFN differ from other neural networks like MLP and CNN?\n",
        "   - Unlike Multi-Layer Perceptrons (MLPs) and Convolutional Neural Networks (CNNs), RBFNs have three layers: an input layer, a hidden layer with radial basis functions, and an output layer. The hidden layer directly computes the similarity between the input data and the centers of radial basis functions.\n",
        "\n",
        "3. What are the main components of an RBFN?\n",
        "   - An RBFN consists of three main components: the input layer, the hidden layer with radial basis functions, and the output layer with linear activation. The radial basis functions serve as nonlinear activation functions in the hidden layer.\n",
        "\n",
        "4. How does the training process of an RBFN work?\n",
        "   - The training of an RBFN involves two main steps: selecting the centers of the radial basis functions (usually using clustering techniques) and determining the weights between the hidden and output layers (often achieved through linear regression or other optimization methods).\n",
        "\n",
        "5. What are the advantages of using RBFNs?\n",
        "   - RBFNs have the ability to approximate complex functions with fewer neurons compared to traditional neural networks. They are also computationally efficient and often yield good generalization performance on certain types of data.\n",
        "\n",
        "6. In what applications are RBFNs commonly used?\n",
        "   - RBFNs are frequently used in function approximation tasks, time series prediction, classification problems, and other tasks where interpolation or pattern recognition is required. They have been applied in fields such as finance, engineering, and medical diagnostics.\n",
        "\n",
        "7. Are RBFNs susceptible to overfitting?\n",
        "   - Like other neural networks, RBFNs can be prone to overfitting if not properly regularized. Techniques such as cross-validation, weight decay, or dropout can be employed to mitigate overfitting and improve generalization.\n",
        "\n",
        "8. Can RBFNs be used in combination with other neural network architectures?\n",
        "   - Yes, RBFNs can be used in hybrid architectures, where they are combined with other neural network models like MLPs or CNNs. For example, RBFNs can be used for feature extraction or as a part of an ensemble approach to improve overall performance.\n",
        "\n",
        "9. What are some limitations of RBFNs?\n",
        "   - One limitation of RBFNs is that they may not be suitable for high-dimensional and complex data sets due to the potential increase in computational cost. Additionally, selecting appropriate centers for the radial basis functions can be a challenging task in some cases.\n",
        "\n",
        "10. Are there any variations or extensions of RBFNs?\n",
        "    - Yes, there are several variations and extensions of RBFNs, such as Generalized Regression Neural Network (GRNN), Growing RBFN, and Incremental RBFN. These variations aim to address specific challenges or improve certain aspects of the standard RBFN model."
      ],
      "metadata": {
        "id": "NUGsYgsx7CKs"
      }
    },
    {
      "cell_type": "markdown",
      "source": [
        "# Quiz"
      ],
      "metadata": {
        "id": "Q9N9yGNMXtuC"
      }
    },
    {
      "cell_type": "markdown",
      "source": [
        "\n",
        "\n",
        "1. What does RBFN stand for?\n",
        "a) Rectangular Basis Function Network\n",
        "b) Robust Backpropagation Feature Network\n",
        "c) Radial Basis Function Network\n",
        "d) Reactive Bayesian Function Network\n",
        "\n",
        "2. In which type of machine learning tasks are RBFN models commonly used?\n",
        "a) Image Classification\n",
        "b) Reinforcement Learning\n",
        "c) Natural Language Processing\n",
        "d) Function Approximation\n",
        "\n",
        "3. What is the primary purpose of the radial basis function in an RBFN model?\n",
        "a) To perform gradient descent during training\n",
        "b) To calculate the distance between input data and cluster centers\n",
        "c) To encode categorical features in the input data\n",
        "d) To generate synthetic data for augmentation\n",
        "\n",
        "4. Which of the following activation functions is commonly used in the hidden layer of an RBFN model?\n",
        "a) Sigmoid\n",
        "b) ReLU (Rectified Linear Unit)\n",
        "c) Tanh (Hyperbolic Tangent)\n",
        "d) Gaussian\n",
        "\n",
        "5. How are the centers of the radial basis functions typically determined during the training of an RBFN model?\n",
        "a) Randomly\n",
        "b) Using gradient descent\n",
        "c) Using k-means clustering\n",
        "d) Using principal component analysis (PCA)\n",
        "\n",
        "6. What is the purpose of the output layer in an RBFN model?\n",
        "a) To calculate the weighted sum of the hidden layer activations\n",
        "b) To apply the radial basis function to the input data\n",
        "c) To apply the activation function to the input data\n",
        "d) To compute the distance between the input data and the cluster centers\n",
        "\n",
        "7. Which step is usually involved after the forward pass in training an RBFN model?\n",
        "a) Backpropagation\n",
        "b) Dropout\n",
        "c) Regularization\n",
        "d) Normalization\n",
        "\n",
        "**Answers:**\n",
        "1. c) Radial Basis Function Network\n",
        "2. d) Function Approximation\n",
        "3. b) To calculate the distance between input data and cluster centers\n",
        "4. d) Gaussian\n",
        "5. c) Using k-means clustering\n",
        "6. a) To calculate the weighted sum of the hidden layer activations\n",
        "7. a) Backpropagation"
      ],
      "metadata": {
        "id": "cTbo4_4QXvJJ"
      }
    },
    {
      "cell_type": "markdown",
      "source": [
        "# Project Ideas"
      ],
      "metadata": {
        "id": "8u5UjRDI24Ll"
      }
    },
    {
      "cell_type": "markdown",
      "source": [
        "\n",
        "1. **Disease Prediction:**\n",
        "   - Use RBFN to predict the onset of specific diseases based on medical test results. For instance, predicting the onset of diabetes based on features like glucose levels, blood pressure, BMI, etc.\n",
        "\n",
        "2. **Medical Imaging:**\n",
        "   - Implement an RBFN to identify tumors or anomalies in X-rays, MRIs, or other medical imaging modalities.\n",
        "   - Classify stages of a disease, e.g., stages of cancer tumor development.\n",
        "\n",
        "3. **Drug Response Prediction:**\n",
        "   - Predict how patients will respond to specific drugs or treatments based on their genetic makeup and medical history.\n",
        "\n",
        "4. **EHR Data Analysis:**\n",
        "   - Process Electronic Health Record (EHR) data to predict patient readmissions using RBFN.\n",
        "   - Predict patient's risk factors for various diseases using historical medical data.\n",
        "\n",
        "5. **Predicting Disease Outbreaks:**\n",
        "   - Analyze patterns in reported symptoms across a geographic area to predict potential disease outbreaks or epidemics.\n",
        "\n",
        "6. **Wearable Device Data Analysis:**\n",
        "   - Process and analyze data from wearable devices (like heart rate, sleep patterns, etc.) to predict potential health risks or to monitor chronic disease management.\n",
        "\n",
        "7. **Predictive Maintenance of Medical Equipment:**\n",
        "   - Utilize RBFN to analyze the performance data of critical medical equipment and predict when they might fail or require maintenance.\n",
        "\n",
        "8. **Genomics and Personalized Medicine:**\n",
        "   - Use RBFN models to predict disease susceptibility based on an individual's genomic data.\n",
        "   - Analyze genetic data to predict responses to treatments.\n",
        "\n",
        "9. **Telemedicine and Remote Monitoring:**\n",
        "   - Implement RBFN to process data from remote health monitoring systems to predict deteriorations in a patient’s condition and alert healthcare professionals.\n",
        "\n",
        "10. **Clinical Trial Analysis:**\n",
        "   - Use RBFN to process data from clinical trials to identify patterns and predict patient outcomes, helping in faster drug discovery.\n",
        "\n",
        "11. **Mental Health Monitoring:**\n",
        "   - Implement an RBFN model to analyze data from mobile apps that track mood, sleep, and other factors to predict and alert about potential mental health crises.\n",
        "\n",
        "12. **Bio-signal Processing:**\n",
        "   - Use RBFN to analyze bio-signals such as ECG, EEG, etc., for anomalies, potential disease indicators, or to monitor patient recovery.\n",
        "\n",
        "13. **Optimizing Hospital Operations:**\n",
        "   - Implement RBFN to predict patient inflow in emergency departments, helping hospitals optimize staffing and resources.\n",
        "\n",
        "14. **Treatment Recommendation System:**\n",
        "   - Design an RBFN-based system that recommends treatments or therapies based on a patient's medical history and current condition.\n",
        "\n",
        "15. **Natural Language Processing for Medical Records:**\n",
        "   - Implement RBFN to process and categorize unstructured notes in EHRs, aiding in better patient data management and extracting insights.\n",
        "\n"
      ],
      "metadata": {
        "id": "vQaQWauq2607"
      }
    },
    {
      "cell_type": "markdown",
      "source": [
        "# Practical Example"
      ],
      "metadata": {
        "id": "Y6Lfxyx0KCdF"
      }
    },
    {
      "cell_type": "markdown",
      "source": [
        "Here's a working example of how you might use a Radial Basis Function Network (RBFN) model with a real-world healthcare example dataset. In this example, we'll use the Wisconsin Breast Cancer dataset, a common dataset for binary classification tasks in healthcare.\n",
        "\n",
        "The Wisconsin Breast Cancer dataset contains features computed from a digitized image of a fine needle aspirate (FNA) of a breast mass. The goal is to classify whether a tumor is malignant (cancerous) or benign (non-cancerous) based on the features.\n",
        "\n"
      ],
      "metadata": {
        "id": "McKbjiDWKAoB"
      }
    },
    {
      "cell_type": "code",
      "source": [
        "import numpy as np\n",
        "import pandas as pd\n",
        "from sklearn.model_selection import train_test_split\n",
        "from sklearn.preprocessing import StandardScaler\n",
        "from sklearn.metrics import accuracy_score\n",
        "from sklearn.cluster import KMeans\n",
        "from sklearn.metrics import pairwise_distances\n",
        "from scipy.spatial.distance import cdist\n",
        "\n",
        "class RBFN:\n",
        "    def __init__(self, num_centers, sigma=1.0):\n",
        "        self.num_centers = num_centers\n",
        "        self.sigma = sigma\n",
        "        self.centers = None\n",
        "        self.weights = None\n",
        "\n",
        "    def _rbf_kernel(self, x, c):\n",
        "        return np.exp(-np.linalg.norm(x - c) ** 2 / (2 * self.sigma ** 2))\n",
        "\n",
        "    def fit(self, X, y):\n",
        "        kmeans = KMeans(n_clusters=self.num_centers)\n",
        "        kmeans.fit(X)\n",
        "        self.centers = kmeans.cluster_centers_\n",
        "\n",
        "        # Calculate the design matrix\n",
        "        design_matrix = np.zeros((X.shape[0], self.num_centers))\n",
        "        for i in range(X.shape[0]):\n",
        "            for j in range(self.num_centers):\n",
        "                design_matrix[i, j] = self._rbf_kernel(X[i], self.centers[j])\n",
        "\n",
        "        # Solve for weights using pseudo-inverse\n",
        "        self.weights = np.linalg.pinv(design_matrix) @ y\n",
        "\n",
        "    def predict(self, X):\n",
        "        predictions = []\n",
        "        for x in X:\n",
        "            prediction = np.sum([self.weights[j] * self._rbf_kernel(x, self.centers[j]) for j in range(self.num_centers)])\n",
        "            predictions.append(prediction)\n",
        "        return np.sign(predictions)\n",
        "\n",
        "# Load the dataset\n",
        "url = \"https://archive.ics.uci.edu/ml/machine-learning-databases/breast-cancer-wisconsin/wdbc.data\"\n",
        "column_names = [\"ID\", \"Diagnosis\", \"MeanRadius\", \"MeanTexture\", \"MeanPerimeter\", \"MeanArea\", \"MeanSmoothness\", \"MeanCompactness\", \"MeanConcavity\", \"MeanConcavePoints\", \"MeanSymmetry\", \"MeanFractalDimension\", \"SERadius\", \"SETexture\", \"SEPerimeter\", \"SEArea\", \"SESmoothness\", \"SECompactness\", \"SEConcavity\", \"SEConcavePoints\", \"SESymmetry\", \"SEFractalDimension\", \"LargestRadius\", \"LargestTexture\", \"LargestPerimeter\", \"LargestArea\", \"LargestSmoothness\", \"LargestCompactness\", \"LargestConcavity\", \"LargestConcavePoints\", \"LargestSymmetry\", \"LargestFractalDimension\"]\n",
        "data = pd.read_csv(url, names=column_names)\n",
        "\n",
        "# Preprocessing\n",
        "X = data.iloc[:, 2:].values\n",
        "y = np.where(data[\"Diagnosis\"] == \"M\", 1, -1)\n",
        "\n",
        "X_train, X_test, y_train, y_test = train_test_split(X, y, test_size=0.2, random_state=42)\n",
        "\n",
        "scaler = StandardScaler()\n",
        "X_train_scaled = scaler.fit_transform(X_train)\n",
        "X_test_scaled = scaler.transform(X_test)\n",
        "\n",
        "# Create and train the RBFN model\n",
        "num_centers = 10  # Number of RBF centers\n",
        "rbfn_model = RBFN(num_centers=num_centers, sigma=1.0)\n",
        "rbfn_model.fit(X_train_scaled, y_train)\n",
        "\n",
        "# Make predictions\n",
        "y_pred_train = rbfn_model.predict(X_train_scaled)\n",
        "y_pred_test = rbfn_model.predict(X_test_scaled)\n",
        "\n",
        "# Calculate accuracy\n",
        "train_accuracy = accuracy_score(y_train, y_pred_train)\n",
        "test_accuracy = accuracy_score(y_test, y_pred_test)\n",
        "\n",
        "print(f\"Training accuracy: {train_accuracy:.2f}\")\n",
        "print(f\"Testing accuracy: {test_accuracy:.2f}\")\n"
      ],
      "metadata": {
        "id": "kUF6LLE7JK5M"
      },
      "execution_count": null,
      "outputs": []
    },
    {
      "cell_type": "markdown",
      "source": [
        "Please note that this is a simplified example and might not yield optimal results. RBFN models can be sensitive to hyperparameters such as the number of RBF centers and the width of the RBF kernel. Fine-tuning these hyperparameters and performing cross-validation can help improve the model's performance.\n",
        "\n",
        "\n",
        "\n",
        "\n"
      ],
      "metadata": {
        "id": "9OlEKP8uKIze"
      }
    }
  ]
}