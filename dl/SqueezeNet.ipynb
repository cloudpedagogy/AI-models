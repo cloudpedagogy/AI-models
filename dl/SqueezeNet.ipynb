{
  "nbformat": 4,
  "nbformat_minor": 0,
  "metadata": {
    "colab": {
      "provenance": [],
      "gpuType": "T4",
      "authorship_tag": "ABX9TyPC82ZXxZ6rcy5Cl7YMElXq",
      "include_colab_link": true
    },
    "kernelspec": {
      "name": "python3",
      "display_name": "Python 3"
    },
    "language_info": {
      "name": "python"
    },
    "accelerator": "GPU"
  },
  "cells": [
    {
      "cell_type": "markdown",
      "metadata": {
        "id": "view-in-github",
        "colab_type": "text"
      },
      "source": [
        "<a href=\"https://colab.research.google.com/github/cloudpedagogy/AI-models/blob/main/dl/SqueezeNet.ipynb\" target=\"_parent\"><img src=\"https://colab.research.google.com/assets/colab-badge.svg\" alt=\"Open In Colab\"/></a>"
      ]
    },
    {
      "cell_type": "markdown",
      "source": [
        "# SqueezeNet Model Background"
      ],
      "metadata": {
        "id": "WOgm4bJAAzou"
      }
    },
    {
      "cell_type": "markdown",
      "source": [
        "SqueezeNet is a deep neural network architecture designed to be highly efficient in terms of model size and computational resources. The main objective of SqueezeNet is to achieve comparable accuracy to larger neural networks like AlexNet while significantly reducing the number of parameters and model size.\n",
        "\n",
        "Here are some of the pros and cons of SqueezeNet:\n",
        "\n",
        "**Pros**:\n",
        "1. Small model size: SqueezeNet achieves its compact size by employing a combination of 1x1 convolutions and \"fire\" modules, which significantly reduces the number of parameters. This makes it ideal for deployment on devices with limited memory and computational resources, such as mobile phones and embedded systems.\n",
        "\n",
        "2. Reduced memory and computation requirements: The small model size not only helps with storage but also reduces the computational cost during both training and inference, leading to faster execution and lower power consumption.\n",
        "\n",
        "3. Competitive accuracy: Despite its compact size, SqueezeNet can still achieve competitive accuracy compared to larger neural networks like AlexNet. This makes it suitable for scenarios where resource constraints are a concern, but high accuracy is still desired.\n",
        "\n",
        "4. Pre-trained models available: Pre-trained SqueezeNet models are available for various tasks, such as image classification, which can be used as a starting point for transfer learning on new datasets.\n",
        "\n",
        "**Cons**:\n",
        "1. Reduced representation capacity: Due to its compact size, SqueezeNet might not be as powerful as larger and more complex architectures. While it can achieve good accuracy, it may struggle with extremely challenging tasks that require very detailed feature representations.\n",
        "\n",
        "2. Prone to overfitting: With fewer parameters, SqueezeNet might be more susceptible to overfitting, especially when trained on small datasets or complex tasks.\n",
        "\n",
        "3. Limited support for certain tasks: While SqueezeNet works well for image classification tasks, it may not be the best choice for other tasks, such as object detection or natural language processing, where more complex architectures might be preferred.\n",
        "\n",
        "**When to use SqueezeNet**:\n",
        "SqueezeNet is most suitable in scenarios where resource constraints are a significant concern, and sacrificing a small amount of accuracy is acceptable. Here are some situations where you might consider using SqueezeNet:\n",
        "\n",
        "1. Edge devices and embedded systems: SqueezeNet's small size and low computational requirements make it a great choice for deploying deep learning models on devices with limited resources, such as smartphones, IoT devices, and robotics.\n",
        "\n",
        "2. Real-time applications: If you need to perform inference in real-time or near-real-time, SqueezeNet's efficiency can be advantageous.\n",
        "\n",
        "3. Prototyping and experimentation: When you want to quickly test an idea or build a proof-of-concept without committing significant computational resources, SqueezeNet can be a good starting point.\n",
        "\n",
        "4. Transfer learning: If you have a small dataset and need to use pre-trained models, SqueezeNet's small size can be beneficial for fine-tuning on your specific task.\n",
        "\n",
        "In summary, SqueezeNet is a valuable architecture that strikes a balance between model size and accuracy, making it well-suited for resource-constrained environments and tasks where a small model footprint is desirable. However, for more complex tasks and larger datasets, other architectures with more capacity might be preferred."
      ],
      "metadata": {
        "id": "MjduECCNCaia"
      }
    },
    {
      "cell_type": "markdown",
      "source": [
        "# Code Example"
      ],
      "metadata": {
        "id": "INo4KEmpbENS"
      }
    },
    {
      "cell_type": "code",
      "source": [
        "# Install required libraries\n",
        "!pip install tensorflow\n",
        "\n",
        "import tensorflow as tf\n",
        "from tensorflow.keras.layers import Input, Conv2D, MaxPooling2D, GlobalAveragePooling2D, concatenate\n",
        "\n",
        "def fire_module(x, s1x1, e1x1, e3x3, name):\n",
        "    squeeze = Conv2D(s1x1, (1, 1), activation='relu', padding='same', name=name + '_squeeze')(x)\n",
        "    expand1x1 = Conv2D(e1x1, (1, 1), activation='relu', padding='same', name=name + '_expand1x1')(squeeze)\n",
        "    expand3x3 = Conv2D(e3x3, (3, 3), activation='relu', padding='same', name=name + '_expand3x3')(squeeze)\n",
        "    return concatenate([expand1x1, expand3x3], axis=-1, name=name + '_concat')\n",
        "\n",
        "def SqueezeNet():\n",
        "    input_img = Input(shape=(227, 227, 3))\n",
        "\n",
        "    x = Conv2D(96, (7, 7), strides=(2, 2), activation='relu', padding='same', name='conv1')(input_img)\n",
        "    x = MaxPooling2D(pool_size=(3, 3), strides=(2, 2), name='maxpool1')(x)\n",
        "\n",
        "    x = fire_module(x, 16, 64, 64, name='fire2')\n",
        "    x = fire_module(x, 16, 64, 64, name='fire3')\n",
        "\n",
        "    x = MaxPooling2D(pool_size=(3, 3), strides=(2, 2), name='maxpool3')(x)\n",
        "\n",
        "    x = fire_module(x, 32, 128, 128, name='fire4')\n",
        "    x = fire_module(x, 32, 128, 128, name='fire5')\n",
        "\n",
        "    x = MaxPooling2D(pool_size=(3, 3), strides=(2, 2), name='maxpool5')(x)\n",
        "\n",
        "    x = fire_module(x, 48, 192, 192, name='fire6')\n",
        "    x = fire_module(x, 48, 192, 192, name='fire7')\n",
        "\n",
        "    x = fire_module(x, 64, 256, 256, name='fire8')\n",
        "    x = fire_module(x, 64, 256, 256, name='fire9')\n",
        "\n",
        "    x = Conv2D(1000, (1, 1), activation='relu', padding='valid', name='conv10')(x)\n",
        "    x = GlobalAveragePooling2D(name='avgpool10')(x)\n",
        "    output = tf.keras.layers.Softmax(name='softmax')(x)\n",
        "\n",
        "    model = tf.keras.models.Model(inputs=input_img, outputs=output, name='squeezenet')\n",
        "\n",
        "    return model\n",
        "\n",
        "# Create an instance of the SqueezeNet model\n",
        "squeezenet_model = SqueezeNet()\n",
        "squeezenet_model.summary()\n"
      ],
      "metadata": {
        "id": "9r_bkvv297ug"
      },
      "execution_count": null,
      "outputs": []
    },
    {
      "cell_type": "markdown",
      "source": [
        "# Code breakdown"
      ],
      "metadata": {
        "id": "J1I_2nSo0o4C"
      }
    },
    {
      "cell_type": "markdown",
      "source": [
        "\n",
        "1. **Install Required Libraries:**\n",
        "   - The code begins by installing the TensorFlow library using pip. If TensorFlow is not already installed, this command will install it in the current environment.\n",
        "\n",
        "2. **Import Libraries:**\n",
        "   - TensorFlow and specific components from the `tensorflow.keras.layers` module are imported. These components will be used to build the SqueezeNet model.\n",
        "\n",
        "3. **Define the Fire Module Function:**\n",
        "   - The `fire_module` function is defined to create a Fire module. Fire modules are a key component of SqueezeNet and help in reducing the number of parameters while maintaining the model's expressiveness.\n",
        "   - The function takes in four arguments: `x` (the input tensor), `s1x1` (the number of filters for the squeeze layer), `e1x1` (the number of filters for the expand 1x1 layer), `e3x3` (the number of filters for the expand 3x3 layer), and `name` (a string used as a prefix for the layer names).\n",
        "   - Inside the function, three convolutional layers are created: a squeeze layer (1x1), an expand 1x1 layer, and an expand 3x3 layer. The outputs of the expand layers are then concatenated along the last axis (axis=-1) to form the final output of the Fire module.\n",
        "\n",
        "4. **Define the SqueezeNet Model:**\n",
        "   - The `SqueezeNet` function defines the SqueezeNet model architecture.\n",
        "   - It starts by defining the input layer for the model, which expects input images of size (227, 227, 3) (227x227 RGB images).\n",
        "   - Several convolutional and max-pooling layers are added, and Fire modules are used to introduce non-linearity and reduce the number of parameters in the model.\n",
        "   - The `fire_module` function is used to create multiple Fire modules with different configurations, and max-pooling layers are added after specific blocks to reduce spatial dimensions.\n",
        "   - The model ends with a global average pooling layer and a final 1x1 convolutional layer with 1000 filters (corresponding to 1000 classes in the final classification layer).\n",
        "   - The `tf.keras.models.Model` class is used to create the model, taking the input and output layers as arguments.\n",
        "\n",
        "5. **Create an Instance of the SqueezeNet Model:**\n",
        "   - An instance of the SqueezeNet model is created by calling the `SqueezeNet()` function, and the resulting model is assigned to the variable `squeezenet_model`.\n",
        "\n",
        "6. **Print Model Summary:**\n",
        "   - The `squeezenet_model.summary()` function is called to print a summary of the model architecture, showing the layer names, output shapes, and the number of trainable parameters.\n",
        "\n",
        "In summary, this code defines the SqueezeNet model architecture using TensorFlow and the Keras API. SqueezeNet is a lightweight CNN architecture known for its small number of parameters and efficiency. The model is designed for image classification tasks and is characterized by the use of Fire modules to reduce model size while maintaining performance. After defining the model, it is instantiated, and a summary of the model architecture is displayed, showing the layers and parameters of the model."
      ],
      "metadata": {
        "id": "glWRaZSh2VmQ"
      }
    },
    {
      "cell_type": "markdown",
      "source": [
        "# Real world application"
      ],
      "metadata": {
        "id": "cNlbp_Aq1_Zl"
      }
    },
    {
      "cell_type": "markdown",
      "source": [
        "SqueezeNet is a lightweight deep learning model designed for efficient computation and reduced memory footprint. One real-world example of SqueezeNet being used in the healthcare setting is for medical image classification tasks.\n",
        "\n",
        "**Example: Medical Image Classification for Diagnosing Diseases**\n",
        "\n",
        "In medical imaging, such as X-rays, CT scans, or MRI images, deep learning models like SqueezeNet can be utilized to help doctors in diagnosing diseases more accurately and efficiently. For instance, let's consider the classification of chest X-ray images to detect different lung diseases like pneumonia, tuberculosis, or lung cancer.\n",
        "\n",
        "**Here's how SqueezeNet could be applied in this scenario**:\n",
        "\n",
        "1. Dataset Collection: A large dataset of chest X-ray images labeled with various lung disease categories is collected and prepared. This dataset contains both normal and diseased cases to enable the model to learn the different patterns associated with each condition.\n",
        "\n",
        "2. Preprocessing: The images are preprocessed to ensure they are in a suitable format for input into the SqueezeNet model. This may involve resizing, normalization, and augmentation techniques to increase the diversity of the training data.\n",
        "\n",
        "3. Model Training: The preprocessed dataset is then used to train the SqueezeNet model. Since SqueezeNet is designed to be lightweight, it can be trained on relatively less powerful hardware or even on cloud-based platforms.\n",
        "\n",
        "4. Validation and Fine-Tuning: The model is validated on a separate dataset to ensure it is generalizing well and not overfitting. If necessary, fine-tuning can be performed to improve performance.\n",
        "\n",
        "5. Inference: Once the SqueezeNet model is trained and validated, it can be used in real-world applications. When a new chest X-ray image is obtained from a patient, the model can quickly analyze the image and provide a classification result, indicating the presence of any lung disease and its type.\n",
        "\n",
        "**Benefits of SqueezeNet in Healthcare**:\n",
        "- Efficient: SqueezeNet's small model size and reduced computation requirements make it suitable for resource-constrained environments, such as medical devices or mobile applications.\n",
        "- Fast Inference: The model can provide rapid results, allowing medical professionals to make timely decisions.\n",
        "- Scalability: SqueezeNet can be deployed across a large number of healthcare facilities or integrated into various medical platforms due to its lightweight nature.\n",
        "\n",
        "However, it's important to note that while SqueezeNet is effective for certain tasks, more complex and larger models might still be required for more specialized or complex medical image analysis tasks. Therefore, the choice of the model depends on the specific requirements and the complexity of the medical problem at hand."
      ],
      "metadata": {
        "id": "b4RjdwbdIl83"
      }
    },
    {
      "cell_type": "markdown",
      "source": [
        "# FAQ"
      ],
      "metadata": {
        "id": "B0zVyqs-3chH"
      }
    },
    {
      "cell_type": "markdown",
      "source": [
        "\n",
        "1. What is SqueezeNet, and why is it unique?\n",
        "SqueezeNet is a lightweight convolutional neural network architecture designed to achieve high accuracy while reducing the model size significantly. It was introduced to address the challenge of deploying deep learning models on resource-constrained devices, such as mobile phones and embedded systems. SqueezeNet stands out for its small memory footprint and computational efficiency without compromising on performance.\n",
        "\n",
        "2. How does SqueezeNet achieve model compression?\n",
        "SqueezeNet achieves model compression by reducing the number of parameters in the network. It uses a combination of 1x1 filters, which are referred to as \"squeeze\" layers, to decrease the number of input channels and then uses 3x3 filters to expand the channels again. This squeeze-and-expand strategy allows for retaining important information while significantly reducing the model's size.\n",
        "\n",
        "3. What is the \"Fire Module\" in SqueezeNet?\n",
        "The Fire Module is a fundamental building block of the SqueezeNet architecture. It comprises a combination of squeeze and expand layers. The squeeze layer consists of 1x1 convolutions that perform channel-wise dimensionality reduction, while the expand layer contains both 1x1 and 3x3 convolutions to increase the number of channels.\n",
        "\n",
        "4. How does SqueezeNet achieve high accuracy despite its reduced size?\n",
        "SqueezeNet achieves high accuracy through the combination of its Fire Modules and efficient use of 1x1 convolutions. By using 1x1 convolutions, the model reduces the computational cost and parameter count while maintaining the expressive power necessary for achieving good performance on various tasks.\n",
        "\n",
        "5. In which applications is SqueezeNet commonly used?\n",
        "SqueezeNet is commonly used in applications that require efficient deep learning models, especially in resource-constrained environments. Some typical applications include object recognition in mobile applications, real-time video analysis, and embedded systems for IoT devices.\n",
        "\n",
        "6. How does SqueezeNet compare to other popular CNN architectures like ResNet or VGG?\n",
        "Compared to other popular CNN architectures like ResNet or VGG, SqueezeNet is much smaller in size, which makes it more suitable for deployment on devices with limited computational power and memory. While it may not achieve the same level of accuracy as larger models on some tasks, SqueezeNet provides a good trade-off between model size and performance for specific use cases.\n",
        "\n",
        "7. Is SqueezeNet pre-trained on large datasets like ImageNet?\n",
        "Yes, SqueezeNet can be pre-trained on large datasets like ImageNet, similar to other deep learning models. Pre-training on ImageNet or other large datasets enables transfer learning, where the model's knowledge from pre-training can be fine-tuned on specific tasks with smaller datasets, leading to faster convergence and better performance.\n",
        "\n",
        "8. Are there different versions or variants of SqueezeNet?\n",
        "Yes, since its initial release, there have been some modifications and improvements to the SqueezeNet architecture. Researchers have introduced variations to further optimize performance and reduce model size based on specific use cases and requirements.\n",
        "\n",
        "9. Can SqueezeNet be used for real-time video processing?\n",
        "Yes, one of the main advantages of SqueezeNet is its efficiency, making it suitable for real-time video processing tasks. Due to its compact size, SqueezeNet can be deployed on edge devices to process video streams in real-time, enabling various applications like surveillance, robotics, and more.\n",
        "\n",
        "10. How does SqueezeNet contribute to the development of AI in IoT (Internet of Things) devices?\n",
        "SqueezeNet plays a crucial role in the advancement of AI in IoT devices by providing a lightweight and efficient deep learning model. With its reduced memory and computation requirements, SqueezeNet makes it feasible to deploy AI-powered applications on resource-constrained IoT devices, expanding the capabilities of these devices in various fields, such as smart home automation, industrial automation, and healthcare monitoring."
      ],
      "metadata": {
        "id": "NiyVqrib8hnH"
      }
    },
    {
      "cell_type": "markdown",
      "source": [
        "# Quiz"
      ],
      "metadata": {
        "id": "d59G3oVXY74u"
      }
    },
    {
      "cell_type": "markdown",
      "source": [
        "\n",
        "\n",
        "**Questions:**\n",
        "\n",
        "1. What is the main objective behind designing the SqueezeNet model?\n",
        "\n",
        "   A) To create a model that can generate realistic images.\n",
        "   \n",
        "   B) To design a compact neural network for efficient image classification.\n",
        "   \n",
        "   C) To develop a model for natural language processing tasks.\n",
        "   \n",
        "   D) To build a model for stock market prediction.\n",
        "\n",
        "2. Which characteristic of SqueezeNet allows it to have a small number of parameters?\n",
        "\n",
        "   A) Dense layers.\n",
        "   \n",
        "   B) Large filter sizes.\n",
        "   \n",
        "   C) Fire modules.\n",
        "   \n",
        "   D) Global Average Pooling.\n",
        "\n",
        "3. What is the primary advantage of using 1x1 convolutional filters in the SqueezeNet architecture?\n",
        "\n",
        "   A) They reduce the spatial dimensions of the input.\n",
        "   \n",
        "   B) They increase the depth of the network.\n",
        "   \n",
        "   C) They help capture fine-grained patterns in the data.\n",
        "   \n",
        "   D) They decrease the number of channels in the feature maps.\n",
        "\n",
        "4. SqueezeNet replaces 3x3 filters in traditional CNNs with 1x1 filters to:\n",
        "\n",
        "   A) Decrease computational complexity and model size.\n",
        "   \n",
        "   B) Increase the number of parameters for better performance.\n",
        "   \n",
        "   C) Improve translation invariance.\n",
        "   \n",
        "   D) Enhance resistance to overfitting.\n",
        "\n",
        "5. What is the term used for the combined structure of a 1x1 filter followed by a larger filter (e.g., 1x1 followed by 3x3) in SqueezeNet?\n",
        "\n",
        "   A) Fire module.\n",
        "   \n",
        "   B) Squeeze module.\n",
        "   \n",
        "   C) Fusion block.\n",
        "   \n",
        "   D) Convolutional pair.\n",
        "\n",
        "**Answers:**\n",
        "\n",
        "1. B) To design a compact neural network for efficient image classification.\n",
        "\n",
        "2. C) Fire modules.\n",
        "\n",
        "3. B) They increase the depth of the network.\n",
        "\n",
        "4. A) Decrease computational complexity and model size.\n",
        "\n",
        "5. A) Fire module."
      ],
      "metadata": {
        "id": "c6RESxvrY9Pc"
      }
    },
    {
      "cell_type": "markdown",
      "source": [
        "# Project Ideas"
      ],
      "metadata": {
        "id": "Cd_Rp5Ef5ARW"
      }
    },
    {
      "cell_type": "markdown",
      "source": [
        "\n",
        "1. **Medical Image Classification**\n",
        "    - **Objective:** Classify different types of medical scans (e.g., X-rays, MRIs, CT scans) into categories.\n",
        "    - **Data:** Publicly available medical imaging datasets, like the National Institutes of Health (NIH) Chest X-ray dataset or the RSNA Pneumonia Detection Challenge dataset.\n",
        "\n",
        "2. **Skin Lesion Analysis**\n",
        "    - **Objective:** Differentiate between benign and malignant skin lesions.\n",
        "    - **Data:** ISIC (International Skin Imaging Collaboration) Archive dataset.\n",
        "\n",
        "3. **Blood Cell Type Classification**\n",
        "    - **Objective:** Classify different types of blood cells from microscope images.\n",
        "    - **Data:** Public datasets like the Blood Cell Images dataset.\n",
        "\n",
        "4. **Cell Anomaly Detection**\n",
        "    - **Objective:** Detect abnormal cells indicative of diseases like cancer.\n",
        "    - **Data:** Cervical cancer cell images or datasets of cells with genetic mutations.\n",
        "\n",
        "5. **Surgical Tool Recognition**\n",
        "    - **Objective:** Identify and categorize surgical tools in real-time during surgeries to assist surgical teams.\n",
        "    - **Data:** Custom dataset from surgical video recordings.\n",
        "\n",
        "6. **Disease Progression Monitoring**\n",
        "    - **Objective:** Compare sequential patient images over time to track the progression or regression of a disease or condition.\n",
        "    - **Data:** Patient data series or time-lapsed images for conditions like diabetic retinopathy.\n",
        "\n",
        "7. **Drug Pill Identification**\n",
        "    - **Objective:** Identify and classify different medicinal pills based on their appearance.\n",
        "    - **Data:** NIH's National Library of Medicine Pill Image Recognition dataset.\n",
        "\n",
        "8. **Dental Anomaly Detection**\n",
        "    - **Objective:** Detect dental anomalies such as cavities, gum disease, or misalignments from dental X-rays.\n",
        "    - **Data:** Dental X-ray datasets, which may need to be sourced from dental schools or institutions.\n",
        "\n",
        "9. **Real-time Monitoring for Elderly Care**\n",
        "    - **Objective:** Design a mobile application using SqueezeNet to identify signs of health concerns (e.g., specific rashes, bruises, or swellings) for the elderly.\n",
        "    - **Data:** Custom dataset or augmented datasets containing images of common health signs.\n",
        "\n",
        "10. **Portable Diagnostic Toolkit**\n",
        "    - **Objective:** Design a mobile app integrated with a camera to detect specific health conditions, making diagnostics accessible in remote regions.\n",
        "    - **Data:** Various public datasets related to the specific condition(s) targeted, e.g., datasets on diabetic retinopathy for eye conditions.\n",
        "\n",
        "\n"
      ],
      "metadata": {
        "id": "RwmA1yEZ5CIN"
      }
    },
    {
      "cell_type": "markdown",
      "source": [
        "# Practical Example"
      ],
      "metadata": {
        "id": "XFQusptVGZ5s"
      }
    },
    {
      "cell_type": "markdown",
      "source": [
        "Creating a complete working example of training and using a SqueezeNet model on a healthcare dataset within this format is quite extensive. However, I can provide you with a simplified outline of the steps involved using Python and popular libraries like PyTorch and torchvision. Make sure you have these libraries installed before proceeding.\n",
        "\n",
        "For this example, let's consider a binary classification task to predict whether a medical image contains a certain medical condition or not. We'll use the Chest X-Ray Images (Pneumonia) dataset, which is available on Kaggle.\n",
        "\n",
        "1. **Data Preparation:**\n",
        "   - Download the dataset from Kaggle: https://www.kaggle.com/paultimothymooney/chest-xray-pneumonia\n",
        "   - Organize the data into two folders: `normal` and `pneumonia`, each containing corresponding X-ray images.\n",
        "   - Split the data into training and testing sets.\n",
        "\n",
        "2. **Imports:**\n",
        "```python\n",
        "import torch\n",
        "import torch.nn as nn\n",
        "import torch.optim as optim\n",
        "from torchvision import transforms, datasets\n",
        "```\n",
        "\n",
        "3. **Data Loading:**\n",
        "```python\n",
        "data_transform = transforms.Compose([\n",
        "    transforms.Resize((224, 224)),\n",
        "    transforms.ToTensor(),\n",
        "    transforms.Normalize(mean=[0.485, 0.456, 0.406], std=[0.229, 0.224, 0.225])\n",
        "])\n",
        "\n",
        "train_data = datasets.ImageFolder('path_to_train_data', transform=data_transform)\n",
        "train_loader = torch.utils.data.DataLoader(train_data, batch_size=32, shuffle=True)\n",
        "\n",
        "test_data = datasets.ImageFolder('path_to_test_data', transform=data_transform)\n",
        "test_loader = torch.utils.data.DataLoader(test_data, batch_size=32, shuffle=False)\n",
        "```\n",
        "\n",
        "4. **Define SqueezeNet Model:**\n",
        "```python\n",
        "from torchvision import models\n",
        "\n",
        "class SqueezeNetCustom(nn.Module):\n",
        "    def __init__(self, num_classes):\n",
        "        super(SqueezeNetCustom, self).__init__()\n",
        "        self.squeezenet = models.squeezenet1_0(pretrained=True)\n",
        "        self.squeezenet.classifier[1] = nn.Conv2d(512, num_classes, kernel_size=(1,1))\n",
        "        \n",
        "    def forward(self, x):\n",
        "        return self.squeezenet(x)\n",
        "```\n",
        "\n",
        "5. **Training:**\n",
        "```python\n",
        "device = torch.device(\"cuda\" if torch.cuda.is_available() else \"cpu\")\n",
        "\n",
        "model = SqueezeNetCustom(num_classes=2).to(device)\n",
        "criterion = nn.CrossEntropyLoss()\n",
        "optimizer = optim.Adam(model.parameters(), lr=0.001)\n",
        "\n",
        "num_epochs = 10\n",
        "for epoch in range(num_epochs):\n",
        "    model.train()\n",
        "    for inputs, labels in train_loader:\n",
        "        inputs, labels = inputs.to(device), labels.to(device)\n",
        "        \n",
        "        optimizer.zero_grad()\n",
        "        outputs = model(inputs)\n",
        "        loss = criterion(outputs, labels)\n",
        "        loss.backward()\n",
        "        optimizer.step()\n",
        "        \n",
        "    print(f\"Epoch [{epoch+1}/{num_epochs}] - Loss: {loss.item():.4f}\")\n",
        "```\n",
        "\n",
        "6. **Testing:**\n",
        "```python\n",
        "model.eval()\n",
        "correct = 0\n",
        "total = 0\n",
        "with torch.no_grad():\n",
        "    for inputs, labels in test_loader:\n",
        "        inputs, labels = inputs.to(device), labels.to(device)\n",
        "        outputs = model(inputs)\n",
        "        _, predicted = torch.max(outputs.data, 1)\n",
        "        total += labels.size(0)\n",
        "        correct += (predicted == labels).sum().item()\n",
        "\n",
        "accuracy = 100 * correct / total\n",
        "print(f\"Test Accuracy: {accuracy:.2f}%\")\n",
        "```\n",
        "\n",
        "This is a simplified example to give you an idea of how to work with the SqueezeNet model using a healthcare dataset. In a real-world scenario, you would likely need to fine-tune the model, handle more complex data preprocessing, and potentially deal with class imbalances and other challenges specific to healthcare datasets."
      ],
      "metadata": {
        "id": "Dhv32B5zGcck"
      }
    }
  ]
}